{
 "cells": [
  {
   "cell_type": "markdown",
   "metadata": {},
   "source": [
    "# Hello, Julia!\n",
    "> What I learnt and implemented \n",
    "\n",
    "- toc: true\n",
    "- layout: post\n",
    "- categories: [machine learning, maths]\n",
    "- comments: true\n",
    "- image: images/julia.jpg"
   ]
  },
  {
   "cell_type": "markdown",
   "metadata": {},
   "source": [
    "Hey! This post is about my introduction to the world of Julia. I took this challenge of learning Julia and making something in it. Since Julia is pretty similar to Python, I made a hypothesis. That is can I learn julia and be up and running with something in two days? What I realised is, if you're from a python background and have some expereince in it, then learning Julia is going to be fun and breezy for you. So, here I am after my two day rendezvous with Julia.\n",
    "\n",
    "So, what I used to learn Julia?\n",
    "I used resources from [julia academy](https://juliaacademy.com/)\n",
    "\n",
    "What did I implement?\n",
    "I decided to go for one the resources I learnt deep learning from: [Neural Networks and Deep Learning](https://www.coursera.org/learn/neural-networks-deep-learning/home/welcome)\n",
    "\n",
    "- Impemented the Julia version of [Week 2 assignment](https://www.coursera.org/learn/neural-networks-deep-learning/notebook/zAgPl/logistic-regression-with-a-neural-network-mindset) of [Neural Networks and Deep Learning](https://www.coursera.org/learn/neural-networks-deep-learning/home/welcome) course.\n",
    "\n",
    "- It's not exactly that actually, I have applied the concepts to banknote authentication.\n",
    "- Data is from UCI machine learning repository\n",
    "- Training is done, inference is on the way!\n",
    "\n",
    "I hope it's useful to you. It was a lot of fun and I am in love with Julia ❤\n",
    "\n",
    "Let's begin!"
   ]
  },
  {
   "cell_type": "code",
   "execution_count": 1,
   "metadata": {},
   "outputs": [],
   "source": [
    "# export\n",
    "\n",
    "using DelimitedFiles\n",
    "using Random\n",
    "using Plots"
   ]
  },
  {
   "cell_type": "code",
   "execution_count": 2,
   "metadata": {},
   "outputs": [],
   "source": [
    "file = DelimitedFiles.readdlm(raw\"C:\\Users\\Abhishek Swain\\Desktop\\Julia_ML\\deeplearning.ai\\Neural Networks and deep learning\\Week-2\\data_banknote_authentication.txt\", ',');"
   ]
  },
  {
   "cell_type": "markdown",
   "metadata": {},
   "source": [
    "\n",
    "See the first 5 rows of the given array"
   ]
  },
  {
   "cell_type": "code",
   "execution_count": 3,
   "metadata": {},
   "outputs": [
    {
     "data": {
      "text/plain": [
       "head (generic function with 1 method)"
      ]
     },
     "execution_count": 3,
     "metadata": {},
     "output_type": "execute_result"
    }
   ],
   "source": [
    "function head(file)\n",
    "    file[1:5, 1:5]\n",
    "end"
   ]
  },
  {
   "cell_type": "code",
   "execution_count": 4,
   "metadata": {},
   "outputs": [
    {
     "data": {
      "text/plain": [
       "5×5 Array{Float64,2}:\n",
       " 3.6216    8.6661  -2.8073  -0.44699  0.0\n",
       " 4.5459    8.1674  -2.4586  -1.4621   0.0\n",
       " 3.866    -2.6383   1.9242   0.10645  0.0\n",
       " 3.4566    9.5228  -4.0112  -3.5944   0.0\n",
       " 0.32924  -4.4552   4.5718  -0.9888   0.0"
      ]
     },
     "execution_count": 4,
     "metadata": {},
     "output_type": "execute_result"
    }
   ],
   "source": [
    "head(file)"
   ]
  },
  {
   "cell_type": "markdown",
   "metadata": {},
   "source": [
    "## Normalization"
   ]
  },
  {
   "cell_type": "code",
   "execution_count": 5,
   "metadata": {},
   "outputs": [
    {
     "data": {
      "text/plain": [
       "normalize (generic function with 1 method)"
      ]
     },
     "execution_count": 5,
     "metadata": {},
     "output_type": "execute_result"
    }
   ],
   "source": [
    "function normalize(file, num_cols)\n",
    "    for i=1:num_cols\n",
    "        file[:, i] /= sum(file[:, i])\n",
    "    end\n",
    "end"
   ]
  },
  {
   "cell_type": "code",
   "execution_count": 6,
   "metadata": {},
   "outputs": [],
   "source": [
    "normalize(file, 4)"
   ]
  },
  {
   "cell_type": "code",
   "execution_count": 7,
   "metadata": {},
   "outputs": [
    {
     "data": {
      "text/plain": [
       "5×5 Array{Float64,2}:\n",
       " 0.00608586    0.00328576  -0.00146401   0.000273396  0.0\n",
       " 0.00763908    0.00309668  -0.00128216   0.000894277  0.0\n",
       " 0.00649655   -0.00100032   0.00100347  -6.51089e-5   0.0\n",
       " 0.00580858    0.00361058  -0.00209184   0.00219847   0.0\n",
       " 0.000553266  -0.0016892    0.0023842    0.000604788  0.0"
      ]
     },
     "execution_count": 7,
     "metadata": {},
     "output_type": "execute_result"
    }
   ],
   "source": [
    "head(file)"
   ]
  },
  {
   "cell_type": "markdown",
   "metadata": {},
   "source": [
    "## Splitting into train & test set\n",
    "splits the data into train and test set"
   ]
  },
  {
   "cell_type": "code",
   "execution_count": 8,
   "metadata": {},
   "outputs": [
    {
     "data": {
      "text/plain": [
       "train_test_split (generic function with 2 methods)"
      ]
     },
     "execution_count": 8,
     "metadata": {},
     "output_type": "execute_result"
    }
   ],
   "source": [
    "function train_test_split(file, at=0.7)\n",
    "    n = size(file, 1)\n",
    "\n",
    "    idx = shuffle(1:n)\n",
    "    \n",
    "    train_idx = view(idx, 1:floor(Int, at*n))\n",
    "    test_idx = view(idx, (floor(Int, at*n)+1):n)\n",
    "    \n",
    "    file = convert(Matrix, file)\n",
    "    return file[train_idx,:], file[test_idx,:]\n",
    "\n",
    "end"
   ]
  },
  {
   "cell_type": "code",
   "execution_count": 9,
   "metadata": {},
   "outputs": [],
   "source": [
    "data_train, data_test = train_test_split(file);\n",
    "\n",
    "X_train, y_train = data_train[:, 1:4], data_train[:, 5];"
   ]
  },
  {
   "cell_type": "markdown",
   "metadata": {},
   "source": [
    "## **Mathematical expression of the algorithm**:\n",
    "\n",
    "For one example $x^{(i)}$:\n",
    "$$z^{(i)} = w^T x^{(i)} + b \\tag{1}$$\n",
    "$$\\hat{y}^{(i)} = a^{(i)} = sigmoid(z^{(i)})\\tag{2}$$ \n",
    "$$ \\mathcal{L}(a^{(i)}, y^{(i)}) =  - y^{(i)}  \\log(a^{(i)}) - (1-y^{(i)} )  \\log(1-a^{(i)})\\tag{3}$$\n",
    "\n",
    "The cost is then computed by summing over all training examples:\n",
    "$$ J = \\frac{1}{m} \\sum_{i=1}^m \\mathcal{L}(a^{(i)}, y^{(i)})\\tag{6}$$"
   ]
  },
  {
   "cell_type": "markdown",
   "metadata": {},
   "source": [
    "## Sigmoid\n",
    "Applies sigmoid to the vector"
   ]
  },
  {
   "cell_type": "code",
   "execution_count": 10,
   "metadata": {},
   "outputs": [
    {
     "data": {
      "text/plain": [
       "σ (generic function with 1 method)"
      ]
     },
     "execution_count": 10,
     "metadata": {},
     "output_type": "execute_result"
    }
   ],
   "source": [
    "function σ(z) \n",
    "    \"\"\"\n",
    "    Compute the sigmoid of z\n",
    "    \"\"\"\n",
    "    return one(z) / (one(z) + exp(-z))\n",
    "end"
   ]
  },
  {
   "cell_type": "markdown",
   "metadata": {},
   "source": [
    "## Random initialization\n",
    "Initialize `w` & `b` with with random values between (0, 1)"
   ]
  },
  {
   "cell_type": "code",
   "execution_count": 11,
   "metadata": {},
   "outputs": [
    {
     "data": {
      "text/plain": [
       "initialize (generic function with 1 method)"
      ]
     },
     "execution_count": 11,
     "metadata": {},
     "output_type": "execute_result"
    }
   ],
   "source": [
    "function initialize(dim)\n",
    "    \"\"\"\n",
    "    This function creates a vector of zeros of shape (dim, 1) for w and initializes b to 0.\n",
    "    \n",
    "    Argument:\n",
    "    dim -- size of the w vector we want (or number of parameters in this case)\n",
    "    \n",
    "    Returns:\n",
    "    w -- initialized vector of shape (dim, 1)\n",
    "    b -- initialized scalar (corresponds to the bias)\n",
    "    \"\"\"\n",
    "    \n",
    "    w = zeros(dim, 1)\n",
    "    b = 2\n",
    "    \n",
    "    @assert(size(w) == (dim, 1))\n",
    "    @assert(isa(b, Float64) || isa(b, Int64))\n",
    "    \n",
    "    return w, b\n",
    "end"
   ]
  },
  {
   "cell_type": "markdown",
   "metadata": {},
   "source": [
    "## Notation\n",
    "\n",
    "- According to our notation, `X` is of shape *(num_features, num_examples)*, in our case that is (4, 343). So, we need to reshape our `X`.\n",
    "- `m` is the number of tranining examples.\n",
    "- Similarly, `y` is a row vector or as Julia likes to call it `Array{Float64, 2}` of shape *(1, num_examples)*. "
   ]
  },
  {
   "cell_type": "code",
   "execution_count": 12,
   "metadata": {},
   "outputs": [
    {
     "data": {
      "text/plain": [
       "(4, 960)"
      ]
     },
     "execution_count": 12,
     "metadata": {},
     "output_type": "execute_result"
    }
   ],
   "source": [
    "X_train = reshape(X_train, (size(X_train, 2), size(X_train, 1)))\n",
    "size(X_train)"
   ]
  },
  {
   "cell_type": "code",
   "execution_count": 13,
   "metadata": {},
   "outputs": [
    {
     "data": {
      "text/plain": [
       "960"
      ]
     },
     "execution_count": 13,
     "metadata": {},
     "output_type": "execute_result"
    }
   ],
   "source": [
    "m = size(X_train, 2)"
   ]
  },
  {
   "cell_type": "code",
   "execution_count": 14,
   "metadata": {},
   "outputs": [
    {
     "data": {
      "text/plain": [
       "1×960 Array{Float64,2}:\n",
       " 1.0  1.0  0.0  0.0  1.0  0.0  0.0  1.0  …  1.0  1.0  0.0  1.0  1.0  1.0  1.0"
      ]
     },
     "execution_count": 14,
     "metadata": {},
     "output_type": "execute_result"
    }
   ],
   "source": [
    "y_train = reshape(y_train, (1, size(y_train, 1)))"
   ]
  },
  {
   "cell_type": "code",
   "execution_count": 15,
   "metadata": {},
   "outputs": [],
   "source": [
    "cost = Array{Float64, 2}(undef, size(X_train, 2), 1);"
   ]
  },
  {
   "cell_type": "markdown",
   "metadata": {},
   "source": [
    "## Forward and Backward propagation\n",
    "\n",
    "`propagate` function is the function at the heart of the algorithm. This does the **forward prop -> calculate cost -> back-prop**.\n",
    "\n",
    "Forward Propagation:\n",
    "- You get X\n",
    "- You compute $A = \\sigma(w^T X + b) = (a^{(1)}, a^{(2)}, ..., a^{(m-1)}, a^{(m)})$\n",
    "- You calculate the cost function: $J = -\\frac{1}{m}\\sum_{i=1}^{m}y^{(i)}\\log(a^{(i)})+(1-y^{(i)})\\log(1-a^{(i)})$\n",
    "\n",
    "Here are the two formulas you will be using: \n",
    "\n",
    "$$ \\frac{\\partial J}{\\partial w} = \\frac{1}{m}X(A-Y)^T\\tag{7}$$\n",
    "$$ \\frac{\\partial J}{\\partial b} = \\frac{1}{m} \\sum_{i=1}^m (a^{(i)}-y^{(i)})\\tag{8}$$\n"
   ]
  },
  {
   "cell_type": "code",
   "execution_count": 16,
   "metadata": {},
   "outputs": [
    {
     "data": {
      "text/plain": [
       "propagate (generic function with 1 method)"
      ]
     },
     "execution_count": 16,
     "metadata": {},
     "output_type": "execute_result"
    }
   ],
   "source": [
    "function propagate(w, b, X, Y)\n",
    "    \"\"\"\n",
    "    Implement the cost function and its gradient for the propagation explained above\n",
    "\n",
    "    Arguments:\n",
    "    w -- weights, a numpy array of size (num_px * num_px * 3, 1)\n",
    "    b -- bias, a scalar\n",
    "    X -- data of size (num_px * num_px * 3, number of examples)\n",
    "    Y -- true \"label\" vector (containing 0 if non-cat, 1 if cat) of size (1, number of examples)\n",
    "\n",
    "    Return:\n",
    "    cost -- negative log-likelihood cost for logistic regression\n",
    "    dw -- gradient of the loss with respect to w, thus same shape as w\n",
    "    db -- gradient of the loss with respect to b, thus same shape as b\n",
    "    \n",
    "    Tips:\n",
    "    - Write your code step by step for the propagation\n",
    "    \"\"\"\n",
    "    \n",
    "    # Forward prop\n",
    "    Z = w'X .+ b\n",
    "    A = σ.(Z)\n",
    "    @assert(size(A) == size(y_train))\n",
    "    \n",
    "    # Compute cost\n",
    "    𝒥 = -1 * sum(y_train .* log.(A) .+ (1 .- y_train) .* log.(1 .- A))\n",
    "    𝒥 /= m\n",
    "    \n",
    "    # Back-prop\n",
    "    dz = A - Y\n",
    "    @assert(size(dz) == size(A) && size(dz) == size(Y))\n",
    "        \n",
    "    dw = (1/m) * X * dz'\n",
    "    db = (1/m) * sum(dz)\n",
    "    \n",
    "    𝒥, dw, db\n",
    "end"
   ]
  },
  {
   "cell_type": "code",
   "execution_count": 17,
   "metadata": {},
   "outputs": [
    {
     "data": {
      "text/plain": [
       "([0.0; 0.0; 0.0; 0.0], 2)"
      ]
     },
     "execution_count": 17,
     "metadata": {},
     "output_type": "execute_result"
    }
   ],
   "source": [
    "w, b = initialize(size(X_train, 1))"
   ]
  },
  {
   "cell_type": "markdown",
   "metadata": {},
   "source": [
    "## Model\n",
    "Combine all functions to train the model\n",
    "<br>\n",
    "Learning rate: $\\alpha = 0.09$, iterations(epochs): 150\n",
    "\n",
    "Here is something I love about Julia. It's that you can directly use symbols as variables 😍. Doesn't it look awesome? "
   ]
  },
  {
   "cell_type": "code",
   "execution_count": 18,
   "metadata": {
    "scrolled": false
   },
   "outputs": [
    {
     "name": "stdout",
     "output_type": "stream",
     "text": [
      "cost after iteration 100: 1.0666073239687341\n",
      "cost after iteration 200: 0.9391282495029152\n",
      "cost after iteration 300: 0.8489316681990057\n",
      "cost after iteration 400: 0.7885819340786782\n",
      "cost after iteration 500: 0.7498169972649182\n",
      "cost after iteration 600: 0.7255735812223848\n",
      "cost after iteration 700: 0.7106522022601075\n",
      "cost after iteration 800: 0.7015484569536741\n",
      "cost after iteration 900: 0.6960180608207343\n",
      "cost after iteration 1000: 0.6926643346133461\n",
      "cost after iteration 1100: 0.690631350001049\n",
      "cost after iteration 1200: 0.689398600784405\n",
      "cost after iteration 1300: 0.6886506399682504\n",
      "cost after iteration 1400: 0.6881965056746137\n",
      "cost after iteration 1500: 0.6879205859540563\n"
     ]
    }
   ],
   "source": [
    "α = 0.01\n",
    "\n",
    "cost = Array{Float64, 2}(undef, 1500, 1)\n",
    "\n",
    "for i=1:1500\n",
    "    \n",
    "    𝒥, dw, db = propagate(w, b, X_train, y_train)\n",
    "    \n",
    "    cost[i] = 𝒥\n",
    "    \n",
    "    global w, b\n",
    "    \n",
    "    w -= α * dw;  \n",
    "    b -= α * db;\n",
    "        \n",
    "    if i % 100 == 0 \n",
    "        println(\"cost after iteration $i: $𝒥\")\n",
    "    end\n",
    "\n",
    "end  "
   ]
  },
  {
   "cell_type": "markdown",
   "metadata": {},
   "source": [
    "## Plotting \n",
    "For plotting we use the `Plots` package."
   ]
  },
  {
   "cell_type": "code",
   "execution_count": 19,
   "metadata": {
    "scrolled": false
   },
   "outputs": [
    {
     "data": {
      "image/svg+xml": [
       "<?xml version=\"1.0\" encoding=\"utf-8\"?>\n",
       "<svg xmlns=\"http://www.w3.org/2000/svg\" xmlns:xlink=\"http://www.w3.org/1999/xlink\" width=\"600\" height=\"400\" viewBox=\"0 0 2400 1600\">\n",
       "<defs>\n",
       "  <clipPath id=\"clip680\">\n",
       "    <rect x=\"0\" y=\"0\" width=\"2400\" height=\"1600\"/>\n",
       "  </clipPath>\n",
       "</defs>\n",
       "<path clip-path=\"url(#clip680)\" d=\"\n",
       "M0 1600 L2400 1600 L2400 0 L0 0  Z\n",
       "  \" fill=\"#ffffff\" fill-rule=\"evenodd\" fill-opacity=\"1\"/>\n",
       "<defs>\n",
       "  <clipPath id=\"clip681\">\n",
       "    <rect x=\"480\" y=\"0\" width=\"1681\" height=\"1600\"/>\n",
       "  </clipPath>\n",
       "</defs>\n",
       "<path clip-path=\"url(#clip680)\" d=\"\n",
       "M211.024 1423.18 L2352.76 1423.18 L2352.76 123.472 L211.024 123.472  Z\n",
       "  \" fill=\"#ffffff\" fill-rule=\"evenodd\" fill-opacity=\"1\"/>\n",
       "<defs>\n",
       "  <clipPath id=\"clip682\">\n",
       "    <rect x=\"211\" y=\"123\" width=\"2143\" height=\"1301\"/>\n",
       "  </clipPath>\n",
       "</defs>\n",
       "<polyline clip-path=\"url(#clip682)\" style=\"stroke:#000000; stroke-width:2; stroke-opacity:0.1; fill:none\" points=\"\n",
       "  270.291,1423.18 270.291,123.472 \n",
       "  \"/>\n",
       "<polyline clip-path=\"url(#clip682)\" style=\"stroke:#000000; stroke-width:2; stroke-opacity:0.1; fill:none\" points=\"\n",
       "  944.241,1423.18 944.241,123.472 \n",
       "  \"/>\n",
       "<polyline clip-path=\"url(#clip682)\" style=\"stroke:#000000; stroke-width:2; stroke-opacity:0.1; fill:none\" points=\"\n",
       "  1618.19,1423.18 1618.19,123.472 \n",
       "  \"/>\n",
       "<polyline clip-path=\"url(#clip682)\" style=\"stroke:#000000; stroke-width:2; stroke-opacity:0.1; fill:none\" points=\"\n",
       "  2292.14,1423.18 2292.14,123.472 \n",
       "  \"/>\n",
       "<polyline clip-path=\"url(#clip682)\" style=\"stroke:#000000; stroke-width:2; stroke-opacity:0.1; fill:none\" points=\"\n",
       "  211.024,1359.23 2352.76,1359.23 \n",
       "  \"/>\n",
       "<polyline clip-path=\"url(#clip682)\" style=\"stroke:#000000; stroke-width:2; stroke-opacity:0.1; fill:none\" points=\"\n",
       "  211.024,1134.36 2352.76,1134.36 \n",
       "  \"/>\n",
       "<polyline clip-path=\"url(#clip682)\" style=\"stroke:#000000; stroke-width:2; stroke-opacity:0.1; fill:none\" points=\"\n",
       "  211.024,909.485 2352.76,909.485 \n",
       "  \"/>\n",
       "<polyline clip-path=\"url(#clip682)\" style=\"stroke:#000000; stroke-width:2; stroke-opacity:0.1; fill:none\" points=\"\n",
       "  211.024,684.612 2352.76,684.612 \n",
       "  \"/>\n",
       "<polyline clip-path=\"url(#clip682)\" style=\"stroke:#000000; stroke-width:2; stroke-opacity:0.1; fill:none\" points=\"\n",
       "  211.024,459.738 2352.76,459.738 \n",
       "  \"/>\n",
       "<polyline clip-path=\"url(#clip682)\" style=\"stroke:#000000; stroke-width:2; stroke-opacity:0.1; fill:none\" points=\"\n",
       "  211.024,234.865 2352.76,234.865 \n",
       "  \"/>\n",
       "<polyline clip-path=\"url(#clip680)\" style=\"stroke:#000000; stroke-width:4; stroke-opacity:1; fill:none\" points=\"\n",
       "  211.024,1423.18 2352.76,1423.18 \n",
       "  \"/>\n",
       "<polyline clip-path=\"url(#clip680)\" style=\"stroke:#000000; stroke-width:4; stroke-opacity:1; fill:none\" points=\"\n",
       "  211.024,1423.18 211.024,123.472 \n",
       "  \"/>\n",
       "<polyline clip-path=\"url(#clip680)\" style=\"stroke:#000000; stroke-width:4; stroke-opacity:1; fill:none\" points=\"\n",
       "  270.291,1423.18 270.291,1407.58 \n",
       "  \"/>\n",
       "<polyline clip-path=\"url(#clip680)\" style=\"stroke:#000000; stroke-width:4; stroke-opacity:1; fill:none\" points=\"\n",
       "  944.241,1423.18 944.241,1407.58 \n",
       "  \"/>\n",
       "<polyline clip-path=\"url(#clip680)\" style=\"stroke:#000000; stroke-width:4; stroke-opacity:1; fill:none\" points=\"\n",
       "  1618.19,1423.18 1618.19,1407.58 \n",
       "  \"/>\n",
       "<polyline clip-path=\"url(#clip680)\" style=\"stroke:#000000; stroke-width:4; stroke-opacity:1; fill:none\" points=\"\n",
       "  2292.14,1423.18 2292.14,1407.58 \n",
       "  \"/>\n",
       "<polyline clip-path=\"url(#clip680)\" style=\"stroke:#000000; stroke-width:4; stroke-opacity:1; fill:none\" points=\"\n",
       "  211.024,1359.23 236.725,1359.23 \n",
       "  \"/>\n",
       "<polyline clip-path=\"url(#clip680)\" style=\"stroke:#000000; stroke-width:4; stroke-opacity:1; fill:none\" points=\"\n",
       "  211.024,1134.36 236.725,1134.36 \n",
       "  \"/>\n",
       "<polyline clip-path=\"url(#clip680)\" style=\"stroke:#000000; stroke-width:4; stroke-opacity:1; fill:none\" points=\"\n",
       "  211.024,909.485 236.725,909.485 \n",
       "  \"/>\n",
       "<polyline clip-path=\"url(#clip680)\" style=\"stroke:#000000; stroke-width:4; stroke-opacity:1; fill:none\" points=\"\n",
       "  211.024,684.612 236.725,684.612 \n",
       "  \"/>\n",
       "<polyline clip-path=\"url(#clip680)\" style=\"stroke:#000000; stroke-width:4; stroke-opacity:1; fill:none\" points=\"\n",
       "  211.024,459.738 236.725,459.738 \n",
       "  \"/>\n",
       "<polyline clip-path=\"url(#clip680)\" style=\"stroke:#000000; stroke-width:4; stroke-opacity:1; fill:none\" points=\"\n",
       "  211.024,234.865 236.725,234.865 \n",
       "  \"/>\n",
       "<path clip-path=\"url(#clip680)\" d=\"M 0 0 M270.291 1445.17 Q266.68 1445.17 264.851 1448.74 Q263.046 1452.28 263.046 1459.41 Q263.046 1466.51 264.851 1470.08 Q266.68 1473.62 270.291 1473.62 Q273.925 1473.62 275.731 1470.08 Q277.559 1466.51 277.559 1459.41 Q277.559 1452.28 275.731 1448.74 Q273.925 1445.17 270.291 1445.17 M270.291 1441.47 Q276.101 1441.47 279.157 1446.07 Q282.235 1450.66 282.235 1459.41 Q282.235 1468.13 279.157 1472.74 Q276.101 1477.32 270.291 1477.32 Q264.481 1477.32 261.402 1472.74 Q258.347 1468.13 258.347 1459.41 Q258.347 1450.66 261.402 1446.07 Q264.481 1441.47 270.291 1441.47 Z\" fill=\"#000000\" fill-rule=\"evenodd\" fill-opacity=\"1\" /><path clip-path=\"url(#clip680)\" d=\"M 0 0 M907.505 1442.09 L925.861 1442.09 L925.861 1446.03 L911.787 1446.03 L911.787 1454.5 Q912.806 1454.15 913.824 1453.99 Q914.843 1453.8 915.861 1453.8 Q921.648 1453.8 925.028 1456.98 Q928.408 1460.15 928.408 1465.56 Q928.408 1471.14 924.935 1474.24 Q921.463 1477.32 915.144 1477.32 Q912.968 1477.32 910.699 1476.95 Q908.454 1476.58 906.047 1475.84 L906.047 1471.14 Q908.13 1472.28 910.352 1472.83 Q912.574 1473.39 915.051 1473.39 Q919.056 1473.39 921.394 1471.28 Q923.732 1469.18 923.732 1465.56 Q923.732 1461.95 921.394 1459.85 Q919.056 1457.74 915.051 1457.74 Q913.176 1457.74 911.301 1458.16 Q909.449 1458.57 907.505 1459.45 L907.505 1442.09 Z\" fill=\"#000000\" fill-rule=\"evenodd\" fill-opacity=\"1\" /><path clip-path=\"url(#clip680)\" d=\"M 0 0 M943.477 1445.17 Q939.866 1445.17 938.037 1448.74 Q936.232 1452.28 936.232 1459.41 Q936.232 1466.51 938.037 1470.08 Q939.866 1473.62 943.477 1473.62 Q947.111 1473.62 948.917 1470.08 Q950.745 1466.51 950.745 1459.41 Q950.745 1452.28 948.917 1448.74 Q947.111 1445.17 943.477 1445.17 M943.477 1441.47 Q949.287 1441.47 952.343 1446.07 Q955.421 1450.66 955.421 1459.41 Q955.421 1468.13 952.343 1472.74 Q949.287 1477.32 943.477 1477.32 Q937.667 1477.32 934.588 1472.74 Q931.533 1468.13 931.533 1459.41 Q931.533 1450.66 934.588 1446.07 Q937.667 1441.47 943.477 1441.47 Z\" fill=\"#000000\" fill-rule=\"evenodd\" fill-opacity=\"1\" /><path clip-path=\"url(#clip680)\" d=\"M 0 0 M970.491 1445.17 Q966.88 1445.17 965.051 1448.74 Q963.245 1452.28 963.245 1459.41 Q963.245 1466.51 965.051 1470.08 Q966.88 1473.62 970.491 1473.62 Q974.125 1473.62 975.931 1470.08 Q977.759 1466.51 977.759 1459.41 Q977.759 1452.28 975.931 1448.74 Q974.125 1445.17 970.491 1445.17 M970.491 1441.47 Q976.301 1441.47 979.356 1446.07 Q982.435 1450.66 982.435 1459.41 Q982.435 1468.13 979.356 1472.74 Q976.301 1477.32 970.491 1477.32 Q964.681 1477.32 961.602 1472.74 Q958.546 1468.13 958.546 1459.41 Q958.546 1450.66 961.602 1446.07 Q964.681 1441.47 970.491 1441.47 Z\" fill=\"#000000\" fill-rule=\"evenodd\" fill-opacity=\"1\" /><path clip-path=\"url(#clip680)\" d=\"M 0 0 M1568.05 1472.72 L1575.69 1472.72 L1575.69 1446.35 L1567.38 1448.02 L1567.38 1443.76 L1575.64 1442.09 L1580.32 1442.09 L1580.32 1472.72 L1587.96 1472.72 L1587.96 1476.65 L1568.05 1476.65 L1568.05 1472.72 Z\" fill=\"#000000\" fill-rule=\"evenodd\" fill-opacity=\"1\" /><path clip-path=\"url(#clip680)\" d=\"M 0 0 M1603.03 1445.17 Q1599.42 1445.17 1597.59 1448.74 Q1595.78 1452.28 1595.78 1459.41 Q1595.78 1466.51 1597.59 1470.08 Q1599.42 1473.62 1603.03 1473.62 Q1606.66 1473.62 1608.47 1470.08 Q1610.3 1466.51 1610.3 1459.41 Q1610.3 1452.28 1608.47 1448.74 Q1606.66 1445.17 1603.03 1445.17 M1603.03 1441.47 Q1608.84 1441.47 1611.89 1446.07 Q1614.97 1450.66 1614.97 1459.41 Q1614.97 1468.13 1611.89 1472.74 Q1608.84 1477.32 1603.03 1477.32 Q1597.22 1477.32 1594.14 1472.74 Q1591.08 1468.13 1591.08 1459.41 Q1591.08 1450.66 1594.14 1446.07 Q1597.22 1441.47 1603.03 1441.47 Z\" fill=\"#000000\" fill-rule=\"evenodd\" fill-opacity=\"1\" /><path clip-path=\"url(#clip680)\" d=\"M 0 0 M1630.04 1445.17 Q1626.43 1445.17 1624.6 1448.74 Q1622.8 1452.28 1622.8 1459.41 Q1622.8 1466.51 1624.6 1470.08 Q1626.43 1473.62 1630.04 1473.62 Q1633.68 1473.62 1635.48 1470.08 Q1637.31 1466.51 1637.31 1459.41 Q1637.31 1452.28 1635.48 1448.74 Q1633.68 1445.17 1630.04 1445.17 M1630.04 1441.47 Q1635.85 1441.47 1638.91 1446.07 Q1641.99 1450.66 1641.99 1459.41 Q1641.99 1468.13 1638.91 1472.74 Q1635.85 1477.32 1630.04 1477.32 Q1624.23 1477.32 1621.15 1472.74 Q1618.1 1468.13 1618.1 1459.41 Q1618.1 1450.66 1621.15 1446.07 Q1624.23 1441.47 1630.04 1441.47 Z\" fill=\"#000000\" fill-rule=\"evenodd\" fill-opacity=\"1\" /><path clip-path=\"url(#clip680)\" d=\"M 0 0 M1657.06 1445.17 Q1653.45 1445.17 1651.62 1448.74 Q1649.81 1452.28 1649.81 1459.41 Q1649.81 1466.51 1651.62 1470.08 Q1653.45 1473.62 1657.06 1473.62 Q1660.69 1473.62 1662.5 1470.08 Q1664.32 1466.51 1664.32 1459.41 Q1664.32 1452.28 1662.5 1448.74 Q1660.69 1445.17 1657.06 1445.17 M1657.06 1441.47 Q1662.87 1441.47 1665.92 1446.07 Q1669 1450.66 1669 1459.41 Q1669 1468.13 1665.92 1472.74 Q1662.87 1477.32 1657.06 1477.32 Q1651.25 1477.32 1648.17 1472.74 Q1645.11 1468.13 1645.11 1459.41 Q1645.11 1450.66 1648.17 1446.07 Q1651.25 1441.47 1657.06 1441.47 Z\" fill=\"#000000\" fill-rule=\"evenodd\" fill-opacity=\"1\" /><path clip-path=\"url(#clip680)\" d=\"M 0 0 M2242.5 1472.72 L2250.14 1472.72 L2250.14 1446.35 L2241.83 1448.02 L2241.83 1443.76 L2250.09 1442.09 L2254.77 1442.09 L2254.77 1472.72 L2262.41 1472.72 L2262.41 1476.65 L2242.5 1476.65 L2242.5 1472.72 Z\" fill=\"#000000\" fill-rule=\"evenodd\" fill-opacity=\"1\" /><path clip-path=\"url(#clip680)\" d=\"M 0 0 M2267.52 1442.09 L2285.88 1442.09 L2285.88 1446.03 L2271.81 1446.03 L2271.81 1454.5 Q2272.82 1454.15 2273.84 1453.99 Q2274.86 1453.8 2275.88 1453.8 Q2281.67 1453.8 2285.05 1456.98 Q2288.43 1460.15 2288.43 1465.56 Q2288.43 1471.14 2284.95 1474.24 Q2281.48 1477.32 2275.16 1477.32 Q2272.99 1477.32 2270.72 1476.95 Q2268.47 1476.58 2266.06 1475.84 L2266.06 1471.14 Q2268.15 1472.28 2270.37 1472.83 Q2272.59 1473.39 2275.07 1473.39 Q2279.07 1473.39 2281.41 1471.28 Q2283.75 1469.18 2283.75 1465.56 Q2283.75 1461.95 2281.41 1459.85 Q2279.07 1457.74 2275.07 1457.74 Q2273.19 1457.74 2271.32 1458.16 Q2269.47 1458.57 2267.52 1459.45 L2267.52 1442.09 Z\" fill=\"#000000\" fill-rule=\"evenodd\" fill-opacity=\"1\" /><path clip-path=\"url(#clip680)\" d=\"M 0 0 M2303.49 1445.17 Q2299.88 1445.17 2298.06 1448.74 Q2296.25 1452.28 2296.25 1459.41 Q2296.25 1466.51 2298.06 1470.08 Q2299.88 1473.62 2303.49 1473.62 Q2307.13 1473.62 2308.93 1470.08 Q2310.76 1466.51 2310.76 1459.41 Q2310.76 1452.28 2308.93 1448.74 Q2307.13 1445.17 2303.49 1445.17 M2303.49 1441.47 Q2309.31 1441.47 2312.36 1446.07 Q2315.44 1450.66 2315.44 1459.41 Q2315.44 1468.13 2312.36 1472.74 Q2309.31 1477.32 2303.49 1477.32 Q2297.68 1477.32 2294.61 1472.74 Q2291.55 1468.13 2291.55 1459.41 Q2291.55 1450.66 2294.61 1446.07 Q2297.68 1441.47 2303.49 1441.47 Z\" fill=\"#000000\" fill-rule=\"evenodd\" fill-opacity=\"1\" /><path clip-path=\"url(#clip680)\" d=\"M 0 0 M2330.51 1445.17 Q2326.9 1445.17 2325.07 1448.74 Q2323.26 1452.28 2323.26 1459.41 Q2323.26 1466.51 2325.07 1470.08 Q2326.9 1473.62 2330.51 1473.62 Q2334.14 1473.62 2335.95 1470.08 Q2337.78 1466.51 2337.78 1459.41 Q2337.78 1452.28 2335.95 1448.74 Q2334.14 1445.17 2330.51 1445.17 M2330.51 1441.47 Q2336.32 1441.47 2339.37 1446.07 Q2342.45 1450.66 2342.45 1459.41 Q2342.45 1468.13 2339.37 1472.74 Q2336.32 1477.32 2330.51 1477.32 Q2324.7 1477.32 2321.62 1472.74 Q2318.56 1468.13 2318.56 1459.41 Q2318.56 1450.66 2321.62 1446.07 Q2324.7 1441.47 2330.51 1441.47 Z\" fill=\"#000000\" fill-rule=\"evenodd\" fill-opacity=\"1\" /><path clip-path=\"url(#clip680)\" d=\"M 0 0 M139.015 1345.03 Q135.404 1345.03 133.575 1348.6 Q131.769 1352.14 131.769 1359.27 Q131.769 1366.37 133.575 1369.94 Q135.404 1373.48 139.015 1373.48 Q142.649 1373.48 144.455 1369.94 Q146.283 1366.37 146.283 1359.27 Q146.283 1352.14 144.455 1348.6 Q142.649 1345.03 139.015 1345.03 M139.015 1341.33 Q144.825 1341.33 147.88 1345.93 Q150.959 1350.52 150.959 1359.27 Q150.959 1367.99 147.88 1372.6 Q144.825 1377.18 139.015 1377.18 Q133.205 1377.18 130.126 1372.6 Q127.07 1367.99 127.07 1359.27 Q127.07 1350.52 130.126 1345.93 Q133.205 1341.33 139.015 1341.33 Z\" fill=\"#000000\" fill-rule=\"evenodd\" fill-opacity=\"1\" /><path clip-path=\"url(#clip680)\" d=\"M 0 0 M156.029 1370.63 L160.913 1370.63 L160.913 1376.51 L156.029 1376.51 L156.029 1370.63 Z\" fill=\"#000000\" fill-rule=\"evenodd\" fill-opacity=\"1\" /><path clip-path=\"url(#clip680)\" d=\"M 0 0 M164.802 1341.95 L187.024 1341.95 L187.024 1343.94 L174.477 1376.51 L169.593 1376.51 L181.399 1345.89 L164.802 1345.89 L164.802 1341.95 Z\" fill=\"#000000\" fill-rule=\"evenodd\" fill-opacity=\"1\" /><path clip-path=\"url(#clip680)\" d=\"M 0 0 M138.205 1120.16 Q134.593 1120.16 132.765 1123.72 Q130.959 1127.26 130.959 1134.39 Q130.959 1141.5 132.765 1145.06 Q134.593 1148.61 138.205 1148.61 Q141.839 1148.61 143.644 1145.06 Q145.473 1141.5 145.473 1134.39 Q145.473 1127.26 143.644 1123.72 Q141.839 1120.16 138.205 1120.16 M138.205 1116.45 Q144.015 1116.45 147.07 1121.06 Q150.149 1125.64 150.149 1134.39 Q150.149 1143.12 147.07 1147.73 Q144.015 1152.31 138.205 1152.31 Q132.394 1152.31 129.316 1147.73 Q126.26 1143.12 126.26 1134.39 Q126.26 1125.64 129.316 1121.06 Q132.394 1116.45 138.205 1116.45 Z\" fill=\"#000000\" fill-rule=\"evenodd\" fill-opacity=\"1\" /><path clip-path=\"url(#clip680)\" d=\"M 0 0 M155.218 1145.76 L160.103 1145.76 L160.103 1151.64 L155.218 1151.64 L155.218 1145.76 Z\" fill=\"#000000\" fill-rule=\"evenodd\" fill-opacity=\"1\" /><path clip-path=\"url(#clip680)\" d=\"M 0 0 M175.172 1135.23 Q171.839 1135.23 169.917 1137.01 Q168.019 1138.79 168.019 1141.92 Q168.019 1145.04 169.917 1146.82 Q171.839 1148.61 175.172 1148.61 Q178.505 1148.61 180.427 1146.82 Q182.348 1145.02 182.348 1141.92 Q182.348 1138.79 180.427 1137.01 Q178.528 1135.23 175.172 1135.23 M170.496 1133.24 Q167.487 1132.5 165.797 1130.44 Q164.13 1128.38 164.13 1125.41 Q164.13 1121.27 167.07 1118.86 Q170.033 1116.45 175.172 1116.45 Q180.334 1116.45 183.274 1118.86 Q186.214 1121.27 186.214 1125.41 Q186.214 1128.38 184.524 1130.44 Q182.857 1132.5 179.871 1133.24 Q183.251 1134.02 185.126 1136.31 Q187.024 1138.61 187.024 1141.92 Q187.024 1146.94 183.945 1149.62 Q180.889 1152.31 175.172 1152.31 Q169.454 1152.31 166.376 1149.62 Q163.32 1146.94 163.32 1141.92 Q163.32 1138.61 165.218 1136.31 Q167.116 1134.02 170.496 1133.24 M168.783 1125.85 Q168.783 1128.54 170.45 1130.04 Q172.14 1131.55 175.172 1131.55 Q178.181 1131.55 179.871 1130.04 Q181.584 1128.54 181.584 1125.85 Q181.584 1123.17 179.871 1121.66 Q178.181 1120.16 175.172 1120.16 Q172.14 1120.16 170.45 1121.66 Q168.783 1123.17 168.783 1125.85 Z\" fill=\"#000000\" fill-rule=\"evenodd\" fill-opacity=\"1\" /><path clip-path=\"url(#clip680)\" d=\"M 0 0 M138.297 895.284 Q134.686 895.284 132.857 898.849 Q131.052 902.39 131.052 909.52 Q131.052 916.626 132.857 920.191 Q134.686 923.733 138.297 923.733 Q141.931 923.733 143.737 920.191 Q145.566 916.626 145.566 909.52 Q145.566 902.39 143.737 898.849 Q141.931 895.284 138.297 895.284 M138.297 891.58 Q144.107 891.58 147.163 896.187 Q150.242 900.77 150.242 909.52 Q150.242 918.247 147.163 922.853 Q144.107 927.437 138.297 927.437 Q132.487 927.437 129.408 922.853 Q126.353 918.247 126.353 909.52 Q126.353 900.77 129.408 896.187 Q132.487 891.58 138.297 891.58 Z\" fill=\"#000000\" fill-rule=\"evenodd\" fill-opacity=\"1\" /><path clip-path=\"url(#clip680)\" d=\"M 0 0 M155.311 920.886 L160.195 920.886 L160.195 926.765 L155.311 926.765 L155.311 920.886 Z\" fill=\"#000000\" fill-rule=\"evenodd\" fill-opacity=\"1\" /><path clip-path=\"url(#clip680)\" d=\"M 0 0 M165.403 926.048 L165.403 921.788 Q167.163 922.622 168.968 923.062 Q170.774 923.501 172.51 923.501 Q177.14 923.501 179.57 920.4 Q182.024 917.275 182.371 910.932 Q181.028 912.923 178.968 913.988 Q176.908 915.052 174.408 915.052 Q169.223 915.052 166.19 911.927 Q163.181 908.779 163.181 903.339 Q163.181 898.015 166.329 894.798 Q169.478 891.58 174.709 891.58 Q180.704 891.58 183.852 896.187 Q187.024 900.77 187.024 909.52 Q187.024 917.691 183.135 922.576 Q179.269 927.437 172.718 927.437 Q170.959 927.437 169.153 927.089 Q167.348 926.742 165.403 926.048 M174.709 911.395 Q177.857 911.395 179.686 909.242 Q181.538 907.089 181.538 903.339 Q181.538 899.613 179.686 897.46 Q177.857 895.284 174.709 895.284 Q171.561 895.284 169.709 897.46 Q167.88 899.613 167.88 903.339 Q167.88 907.089 169.709 909.242 Q171.561 911.395 174.709 911.395 Z\" fill=\"#000000\" fill-rule=\"evenodd\" fill-opacity=\"1\" /><path clip-path=\"url(#clip680)\" d=\"M 0 0 M130.149 697.957 L137.788 697.957 L137.788 671.591 L129.478 673.258 L129.478 668.998 L137.742 667.332 L142.417 667.332 L142.417 697.957 L150.056 697.957 L150.056 701.892 L130.149 701.892 L130.149 697.957 Z\" fill=\"#000000\" fill-rule=\"evenodd\" fill-opacity=\"1\" /><path clip-path=\"url(#clip680)\" d=\"M 0 0 M155.126 696.012 L160.01 696.012 L160.01 701.892 L155.126 701.892 L155.126 696.012 Z\" fill=\"#000000\" fill-rule=\"evenodd\" fill-opacity=\"1\" /><path clip-path=\"url(#clip680)\" d=\"M 0 0 M175.079 670.411 Q171.468 670.411 169.64 673.975 Q167.834 677.517 167.834 684.647 Q167.834 691.753 169.64 695.318 Q171.468 698.859 175.079 698.859 Q178.714 698.859 180.519 695.318 Q182.348 691.753 182.348 684.647 Q182.348 677.517 180.519 673.975 Q178.714 670.411 175.079 670.411 M175.079 666.707 Q180.889 666.707 183.945 671.313 Q187.024 675.897 187.024 684.647 Q187.024 693.373 183.945 697.98 Q180.889 702.563 175.079 702.563 Q169.269 702.563 166.19 697.98 Q163.135 693.373 163.135 684.647 Q163.135 675.897 166.19 671.313 Q169.269 666.707 175.079 666.707 Z\" fill=\"#000000\" fill-rule=\"evenodd\" fill-opacity=\"1\" /><path clip-path=\"url(#clip680)\" d=\"M 0 0 M131.376 473.083 L139.015 473.083 L139.015 446.718 L130.705 448.384 L130.705 444.125 L138.968 442.458 L143.644 442.458 L143.644 473.083 L151.283 473.083 L151.283 477.018 L131.376 477.018 L131.376 473.083 Z\" fill=\"#000000\" fill-rule=\"evenodd\" fill-opacity=\"1\" /><path clip-path=\"url(#clip680)\" d=\"M 0 0 M156.353 471.139 L161.237 471.139 L161.237 477.018 L156.353 477.018 L156.353 471.139 Z\" fill=\"#000000\" fill-rule=\"evenodd\" fill-opacity=\"1\" /><path clip-path=\"url(#clip680)\" d=\"M 0 0 M167.116 473.083 L174.755 473.083 L174.755 446.718 L166.445 448.384 L166.445 444.125 L174.709 442.458 L179.385 442.458 L179.385 473.083 L187.024 473.083 L187.024 477.018 L167.116 477.018 L167.116 473.083 Z\" fill=\"#000000\" fill-rule=\"evenodd\" fill-opacity=\"1\" /><path clip-path=\"url(#clip680)\" d=\"M 0 0 M131.746 248.21 L139.385 248.21 L139.385 221.844 L131.075 223.511 L131.075 219.252 L139.339 217.585 L144.015 217.585 L144.015 248.21 L151.654 248.21 L151.654 252.145 L131.746 252.145 L131.746 248.21 Z\" fill=\"#000000\" fill-rule=\"evenodd\" fill-opacity=\"1\" /><path clip-path=\"url(#clip680)\" d=\"M 0 0 M156.723 246.265 L161.607 246.265 L161.607 252.145 L156.723 252.145 L156.723 246.265 Z\" fill=\"#000000\" fill-rule=\"evenodd\" fill-opacity=\"1\" /><path clip-path=\"url(#clip680)\" d=\"M 0 0 M170.704 248.21 L187.024 248.21 L187.024 252.145 L165.079 252.145 L165.079 248.21 Q167.741 245.455 172.325 240.825 Q176.931 236.173 178.112 234.83 Q180.357 232.307 181.237 230.571 Q182.139 228.812 182.139 227.122 Q182.139 224.367 180.195 222.631 Q178.274 220.895 175.172 220.895 Q172.973 220.895 170.519 221.659 Q168.089 222.423 165.311 223.974 L165.311 219.252 Q168.135 218.117 170.589 217.539 Q173.042 216.96 175.079 216.96 Q180.45 216.96 183.644 219.645 Q186.839 222.33 186.839 226.821 Q186.839 228.951 186.028 230.872 Q185.241 232.77 183.135 235.363 Q182.556 236.034 179.454 239.251 Q176.352 242.446 170.704 248.21 Z\" fill=\"#000000\" fill-rule=\"evenodd\" fill-opacity=\"1\" /><path clip-path=\"url(#clip680)\" d=\"M 0 0 M844.433 16.7545 L844.433 25.383 Q840.301 21.5346 835.602 19.6307 Q830.943 17.7268 825.677 17.7268 Q815.307 17.7268 809.797 24.0867 Q804.288 30.4061 804.288 42.3968 Q804.288 54.3469 809.797 60.7069 Q815.307 67.0263 825.677 67.0263 Q830.943 67.0263 835.602 65.1223 Q840.301 63.2184 844.433 59.3701 L844.433 67.9175 Q840.139 70.8341 835.318 72.2924 Q830.538 73.7508 825.191 73.7508 Q811.458 73.7508 803.559 65.3654 Q795.66 56.9395 795.66 42.3968 Q795.66 27.8135 803.559 19.4281 Q811.458 11.0023 825.191 11.0023 Q830.619 11.0023 835.399 12.4606 Q840.22 13.8784 844.433 16.7545 Z\" fill=\"#000000\" fill-rule=\"evenodd\" fill-opacity=\"1\" /><path clip-path=\"url(#clip680)\" d=\"M 0 0 M869.832 32.4315 Q863.836 32.4315 860.353 37.1306 Q856.869 41.7891 856.869 49.9314 Q856.869 58.0738 860.312 62.7728 Q863.796 67.4314 869.832 67.4314 Q875.787 67.4314 879.27 62.7323 Q882.754 58.0333 882.754 49.9314 Q882.754 41.8701 879.27 37.1711 Q875.787 32.4315 869.832 32.4315 M869.832 26.1121 Q879.554 26.1121 885.104 32.4315 Q890.653 38.7509 890.653 49.9314 Q890.653 61.0714 885.104 67.4314 Q879.554 73.7508 869.832 73.7508 Q860.069 73.7508 854.519 67.4314 Q849.01 61.0714 849.01 49.9314 Q849.01 38.7509 854.519 32.4315 Q860.069 26.1121 869.832 26.1121 Z\" fill=\"#000000\" fill-rule=\"evenodd\" fill-opacity=\"1\" /><path clip-path=\"url(#clip680)\" d=\"M 0 0 M927.395 28.5427 L927.395 35.5912 Q924.235 33.9709 920.833 33.1607 Q917.43 32.3505 913.784 32.3505 Q908.234 32.3505 905.439 34.0519 Q902.685 35.7533 902.685 39.156 Q902.685 41.7486 904.67 43.2475 Q906.655 44.7058 912.65 46.0426 L915.202 46.6097 Q923.142 48.3111 926.463 51.4303 Q929.826 54.509 929.826 60.0587 Q929.826 66.3781 924.803 70.0644 Q919.82 73.7508 911.07 73.7508 Q907.424 73.7508 903.454 73.0216 Q899.525 72.3329 895.15 70.9151 L895.15 63.2184 Q899.282 65.3654 903.292 66.4591 Q907.303 67.5124 911.232 67.5124 Q916.498 67.5124 919.334 65.73 Q922.17 63.9071 922.17 60.6258 Q922.17 57.5877 920.104 55.9673 Q918.078 54.3469 911.151 52.8481 L908.558 52.2405 Q901.631 50.7821 898.553 47.7845 Q895.474 44.7463 895.474 39.4801 Q895.474 33.0797 900.011 29.5959 Q904.548 26.1121 912.893 26.1121 Q917.025 26.1121 920.671 26.7198 Q924.316 27.3274 927.395 28.5427 Z\" fill=\"#000000\" fill-rule=\"evenodd\" fill-opacity=\"1\" /><path clip-path=\"url(#clip680)\" d=\"M 0 0 M945.017 14.324 L945.017 27.2059 L960.37 27.2059 L960.37 32.9987 L945.017 32.9987 L945.017 57.6282 Q945.017 63.1779 946.515 64.7578 Q948.055 66.3376 952.713 66.3376 L960.37 66.3376 L960.37 72.576 L952.713 72.576 Q944.085 72.576 940.804 69.3758 Q937.522 66.1351 937.522 57.6282 L937.522 32.9987 L932.054 32.9987 L932.054 27.2059 L937.522 27.2059 L937.522 14.324 L945.017 14.324 Z\" fill=\"#000000\" fill-rule=\"evenodd\" fill-opacity=\"1\" /><path clip-path=\"url(#clip680)\" d=\"M 0 0 M989.212 27.2059 L997.111 27.2059 L1011.29 65.2844 L1025.47 27.2059 L1033.37 27.2059 L1016.35 72.576 L1006.23 72.576 L989.212 27.2059 Z\" fill=\"#000000\" fill-rule=\"evenodd\" fill-opacity=\"1\" /><path clip-path=\"url(#clip680)\" d=\"M 0 0 M1054.43 12.096 L1061.32 12.096 L1040.25 80.2727 L1033.37 80.2727 L1054.43 12.096 Z\" fill=\"#000000\" fill-rule=\"evenodd\" fill-opacity=\"1\" /><path clip-path=\"url(#clip680)\" d=\"M 0 0 M1098.06 28.5427 L1098.06 35.5912 Q1094.9 33.9709 1091.5 33.1607 Q1088.09 32.3505 1084.45 32.3505 Q1078.9 32.3505 1076.1 34.0519 Q1073.35 35.7533 1073.35 39.156 Q1073.35 41.7486 1075.33 43.2475 Q1077.32 44.7058 1083.31 46.0426 L1085.87 46.6097 Q1093.81 48.3111 1097.13 51.4303 Q1100.49 54.509 1100.49 60.0587 Q1100.49 66.3781 1095.47 70.0644 Q1090.48 73.7508 1081.73 73.7508 Q1078.09 73.7508 1074.12 73.0216 Q1070.19 72.3329 1065.81 70.9151 L1065.81 63.2184 Q1069.95 65.3654 1073.96 66.4591 Q1077.97 67.5124 1081.9 67.5124 Q1087.16 67.5124 1090 65.73 Q1092.83 63.9071 1092.83 60.6258 Q1092.83 57.5877 1090.77 55.9673 Q1088.74 54.3469 1081.82 52.8481 L1079.22 52.2405 Q1072.3 50.7821 1069.22 47.7845 Q1066.14 44.7463 1066.14 39.4801 Q1066.14 33.0797 1070.68 29.5959 Q1075.21 26.1121 1083.56 26.1121 Q1087.69 26.1121 1091.34 26.7198 Q1094.98 27.3274 1098.06 28.5427 Z\" fill=\"#000000\" fill-rule=\"evenodd\" fill-opacity=\"1\" /><path clip-path=\"url(#clip680)\" d=\"M 0 0 M1134.68 27.2059 L1142.13 27.2059 L1142.13 72.576 L1134.68 72.576 L1134.68 27.2059 M1134.68 9.54393 L1142.13 9.54393 L1142.13 18.9825 L1134.68 18.9825 L1134.68 9.54393 Z\" fill=\"#000000\" fill-rule=\"evenodd\" fill-opacity=\"1\" /><path clip-path=\"url(#clip680)\" d=\"M 0 0 M1157.32 14.324 L1157.32 27.2059 L1172.68 27.2059 L1172.68 32.9987 L1157.32 32.9987 L1157.32 57.6282 Q1157.32 63.1779 1158.82 64.7578 Q1160.36 66.3376 1165.02 66.3376 L1172.68 66.3376 L1172.68 72.576 L1165.02 72.576 Q1156.39 72.576 1153.11 69.3758 Q1149.83 66.1351 1149.83 57.6282 L1149.83 32.9987 L1144.36 32.9987 L1144.36 27.2059 L1149.83 27.2059 L1149.83 14.324 L1157.32 14.324 Z\" fill=\"#000000\" fill-rule=\"evenodd\" fill-opacity=\"1\" /><path clip-path=\"url(#clip680)\" d=\"M 0 0 M1219.3 48.0275 L1219.3 51.6733 L1185.03 51.6733 Q1185.52 59.3701 1189.65 63.421 Q1193.82 67.4314 1201.24 67.4314 Q1205.53 67.4314 1209.54 66.3781 Q1213.59 65.3249 1217.56 63.2184 L1217.56 70.267 Q1213.55 71.9684 1209.34 72.8596 Q1205.13 73.7508 1200.79 73.7508 Q1189.93 73.7508 1183.57 67.4314 Q1177.25 61.1119 1177.25 50.3365 Q1177.25 39.1965 1183.25 32.6746 Q1189.29 26.1121 1199.49 26.1121 Q1208.65 26.1121 1213.96 32.0264 Q1219.3 37.9003 1219.3 48.0275 M1211.85 45.84 Q1211.77 39.7232 1208.41 36.0774 Q1205.08 32.4315 1199.58 32.4315 Q1193.34 32.4315 1189.57 35.9558 Q1185.84 39.4801 1185.28 45.8805 L1211.85 45.84 Z\" fill=\"#000000\" fill-rule=\"evenodd\" fill-opacity=\"1\" /><path clip-path=\"url(#clip680)\" d=\"M 0 0 M1253.41 34.1734 Q1252.16 33.4443 1250.66 33.1202 Q1249.2 32.7556 1247.42 32.7556 Q1241.1 32.7556 1237.69 36.8875 Q1234.33 40.9789 1234.33 48.6757 L1234.33 72.576 L1226.84 72.576 L1226.84 27.2059 L1234.33 27.2059 L1234.33 34.2544 Q1236.68 30.1225 1240.45 28.1376 Q1244.22 26.1121 1249.6 26.1121 Q1250.37 26.1121 1251.31 26.2337 Q1252.24 26.3147 1253.37 26.5172 L1253.41 34.1734 Z\" fill=\"#000000\" fill-rule=\"evenodd\" fill-opacity=\"1\" /><path clip-path=\"url(#clip680)\" d=\"M 0 0 M1281.85 49.7694 Q1272.82 49.7694 1269.33 51.8354 Q1265.85 53.9013 1265.85 58.8839 Q1265.85 62.8538 1268.44 65.2034 Q1271.07 67.5124 1275.57 67.5124 Q1281.77 67.5124 1285.5 63.1374 Q1289.26 58.7219 1289.26 51.4303 L1289.26 49.7694 L1281.85 49.7694 M1296.72 46.6907 L1296.72 72.576 L1289.26 72.576 L1289.26 65.6895 Q1286.71 69.8214 1282.9 71.8063 Q1279.09 73.7508 1273.59 73.7508 Q1266.62 73.7508 1262.49 69.8619 Q1258.39 65.9325 1258.39 59.3701 Q1258.39 51.7138 1263.5 47.825 Q1268.64 43.9361 1278.81 43.9361 L1289.26 43.9361 L1289.26 43.2069 Q1289.26 38.0623 1285.86 35.2672 Q1282.5 32.4315 1276.38 32.4315 Q1272.49 32.4315 1268.81 33.3632 Q1265.12 34.295 1261.72 36.1584 L1261.72 29.2718 Q1265.81 27.692 1269.66 26.9223 Q1273.5 26.1121 1277.15 26.1121 Q1286.99 26.1121 1291.86 31.2163 Q1296.72 36.3204 1296.72 46.6907 Z\" fill=\"#000000\" fill-rule=\"evenodd\" fill-opacity=\"1\" /><path clip-path=\"url(#clip680)\" d=\"M 0 0 M1311.91 14.324 L1311.91 27.2059 L1327.26 27.2059 L1327.26 32.9987 L1311.91 32.9987 L1311.91 57.6282 Q1311.91 63.1779 1313.41 64.7578 Q1314.95 66.3376 1319.6 66.3376 L1327.26 66.3376 L1327.26 72.576 L1319.6 72.576 Q1310.98 72.576 1307.69 69.3758 Q1304.41 66.1351 1304.41 57.6282 L1304.41 32.9987 L1298.94 32.9987 L1298.94 27.2059 L1304.41 27.2059 L1304.41 14.324 L1311.91 14.324 Z\" fill=\"#000000\" fill-rule=\"evenodd\" fill-opacity=\"1\" /><path clip-path=\"url(#clip680)\" d=\"M 0 0 M1335.08 27.2059 L1342.53 27.2059 L1342.53 72.576 L1335.08 72.576 L1335.08 27.2059 M1335.08 9.54393 L1342.53 9.54393 L1342.53 18.9825 L1335.08 18.9825 L1335.08 9.54393 Z\" fill=\"#000000\" fill-rule=\"evenodd\" fill-opacity=\"1\" /><path clip-path=\"url(#clip680)\" d=\"M 0 0 M1367.93 32.4315 Q1361.94 32.4315 1358.45 37.1306 Q1354.97 41.7891 1354.97 49.9314 Q1354.97 58.0738 1358.41 62.7728 Q1361.9 67.4314 1367.93 67.4314 Q1373.89 67.4314 1377.37 62.7323 Q1380.85 58.0333 1380.85 49.9314 Q1380.85 41.8701 1377.37 37.1711 Q1373.89 32.4315 1367.93 32.4315 M1367.93 26.1121 Q1377.65 26.1121 1383.2 32.4315 Q1388.75 38.7509 1388.75 49.9314 Q1388.75 61.0714 1383.2 67.4314 Q1377.65 73.7508 1367.93 73.7508 Q1358.17 73.7508 1352.62 67.4314 Q1347.11 61.0714 1347.11 49.9314 Q1347.11 38.7509 1352.62 32.4315 Q1358.17 26.1121 1367.93 26.1121 Z\" fill=\"#000000\" fill-rule=\"evenodd\" fill-opacity=\"1\" /><path clip-path=\"url(#clip680)\" d=\"M 0 0 M1434.28 45.1919 L1434.28 72.576 L1426.83 72.576 L1426.83 45.4349 Q1426.83 38.994 1424.32 35.7938 Q1421.81 32.5936 1416.78 32.5936 Q1410.75 32.5936 1407.27 36.4419 Q1403.78 40.2903 1403.78 46.9338 L1403.78 72.576 L1396.29 72.576 L1396.29 27.2059 L1403.78 27.2059 L1403.78 34.2544 Q1406.46 30.163 1410.06 28.1376 Q1413.71 26.1121 1418.45 26.1121 Q1426.26 26.1121 1430.27 30.9732 Q1434.28 35.7938 1434.28 45.1919 Z\" fill=\"#000000\" fill-rule=\"evenodd\" fill-opacity=\"1\" /><path clip-path=\"url(#clip680)\" d=\"M 0 0 M1460.01 9.62495 Q1454.58 18.942 1451.95 28.0566 Q1449.31 37.1711 1449.31 46.5287 Q1449.31 55.8863 1451.95 65.0818 Q1454.62 74.2369 1460.01 83.5134 L1453.53 83.5134 Q1447.45 73.9938 1444.41 64.7983 Q1441.41 55.6027 1441.41 46.5287 Q1441.41 37.4952 1444.41 28.3401 Q1447.41 19.1851 1453.53 9.62495 L1460.01 9.62495 Z\" fill=\"#000000\" fill-rule=\"evenodd\" fill-opacity=\"1\" /><path clip-path=\"url(#clip680)\" d=\"M 0 0 M1459.77 12.096 L1510.93 12.096 L1510.93 18.9825 L1489.46 18.9825 L1489.46 72.576 L1481.23 72.576 L1481.23 18.9825 L1459.77 18.9825 L1459.77 12.096 Z\" fill=\"#000000\" fill-rule=\"evenodd\" fill-opacity=\"1\" /><path clip-path=\"url(#clip680)\" d=\"M 0 0 M1532.84 34.1734 Q1531.59 33.4443 1530.09 33.1202 Q1528.63 32.7556 1526.85 32.7556 Q1520.53 32.7556 1517.13 36.8875 Q1513.76 40.9789 1513.76 48.6757 L1513.76 72.576 L1506.27 72.576 L1506.27 27.2059 L1513.76 27.2059 L1513.76 34.2544 Q1516.11 30.1225 1519.88 28.1376 Q1523.65 26.1121 1529.04 26.1121 Q1529.81 26.1121 1530.74 26.2337 Q1531.67 26.3147 1532.8 26.5172 L1532.84 34.1734 Z\" fill=\"#000000\" fill-rule=\"evenodd\" fill-opacity=\"1\" /><path clip-path=\"url(#clip680)\" d=\"M 0 0 M1561.28 49.7694 Q1552.25 49.7694 1548.76 51.8354 Q1545.28 53.9013 1545.28 58.8839 Q1545.28 62.8538 1547.87 65.2034 Q1550.51 67.5124 1555 67.5124 Q1561.2 67.5124 1564.93 63.1374 Q1568.69 58.7219 1568.69 51.4303 L1568.69 49.7694 L1561.28 49.7694 M1576.15 46.6907 L1576.15 72.576 L1568.69 72.576 L1568.69 65.6895 Q1566.14 69.8214 1562.33 71.8063 Q1558.53 73.7508 1553.02 73.7508 Q1546.05 73.7508 1541.92 69.8619 Q1537.83 65.9325 1537.83 59.3701 Q1537.83 51.7138 1542.93 47.825 Q1548.07 43.9361 1558.24 43.9361 L1568.69 43.9361 L1568.69 43.2069 Q1568.69 38.0623 1565.29 35.2672 Q1561.93 32.4315 1555.81 32.4315 Q1551.92 32.4315 1548.24 33.3632 Q1544.55 34.295 1541.15 36.1584 L1541.15 29.2718 Q1545.24 27.692 1549.09 26.9223 Q1552.94 26.1121 1556.58 26.1121 Q1566.43 26.1121 1571.29 31.2163 Q1576.15 36.3204 1576.15 46.6907 Z\" fill=\"#000000\" fill-rule=\"evenodd\" fill-opacity=\"1\" /><path clip-path=\"url(#clip680)\" d=\"M 0 0 M1583.97 27.2059 L1591.42 27.2059 L1591.42 72.576 L1583.97 72.576 L1583.97 27.2059 M1583.97 9.54393 L1591.42 9.54393 L1591.42 18.9825 L1583.97 18.9825 L1583.97 9.54393 Z\" fill=\"#000000\" fill-rule=\"evenodd\" fill-opacity=\"1\" /><path clip-path=\"url(#clip680)\" d=\"M 0 0 M1636.95 45.1919 L1636.95 72.576 L1629.5 72.576 L1629.5 45.4349 Q1629.5 38.994 1626.99 35.7938 Q1624.47 32.5936 1619.45 32.5936 Q1613.42 32.5936 1609.93 36.4419 Q1606.45 40.2903 1606.45 46.9338 L1606.45 72.576 L1598.95 72.576 L1598.95 27.2059 L1606.45 27.2059 L1606.45 34.2544 Q1609.12 30.163 1612.73 28.1376 Q1616.37 26.1121 1621.11 26.1121 Q1628.93 26.1121 1632.94 30.9732 Q1636.95 35.7938 1636.95 45.1919 Z\" fill=\"#000000\" fill-rule=\"evenodd\" fill-opacity=\"1\" /><path clip-path=\"url(#clip680)\" d=\"M 0 0 M1644.77 27.2059 L1652.22 27.2059 L1652.22 72.576 L1644.77 72.576 L1644.77 27.2059 M1644.77 9.54393 L1652.22 9.54393 L1652.22 18.9825 L1644.77 18.9825 L1644.77 9.54393 Z\" fill=\"#000000\" fill-rule=\"evenodd\" fill-opacity=\"1\" /><path clip-path=\"url(#clip680)\" d=\"M 0 0 M1697.76 45.1919 L1697.76 72.576 L1690.3 72.576 L1690.3 45.4349 Q1690.3 38.994 1687.79 35.7938 Q1685.28 32.5936 1680.26 32.5936 Q1674.22 32.5936 1670.74 36.4419 Q1667.25 40.2903 1667.25 46.9338 L1667.25 72.576 L1659.76 72.576 L1659.76 27.2059 L1667.25 27.2059 L1667.25 34.2544 Q1669.93 30.163 1673.53 28.1376 Q1677.18 26.1121 1681.92 26.1121 Q1689.73 26.1121 1693.75 30.9732 Q1697.76 35.7938 1697.76 45.1919 Z\" fill=\"#000000\" fill-rule=\"evenodd\" fill-opacity=\"1\" /><path clip-path=\"url(#clip680)\" d=\"M 0 0 M1735.43 49.3643 Q1735.43 41.2625 1732.07 36.8065 Q1728.75 32.3505 1722.71 32.3505 Q1716.71 32.3505 1713.35 36.8065 Q1710.03 41.2625 1710.03 49.3643 Q1710.03 57.4256 1713.35 61.8816 Q1716.71 66.3376 1722.71 66.3376 Q1728.75 66.3376 1732.07 61.8816 Q1735.43 57.4256 1735.43 49.3643 M1742.88 66.9452 Q1742.88 78.5308 1737.74 84.1616 Q1732.59 89.8329 1721.98 89.8329 Q1718.05 89.8329 1714.57 89.2252 Q1711.08 88.6581 1707.8 87.4428 L1707.8 80.1917 Q1711.08 81.9741 1714.28 82.8248 Q1717.48 83.6755 1720.81 83.6755 Q1728.14 83.6755 1731.78 79.8271 Q1735.43 76.0193 1735.43 68.282 L1735.43 64.5957 Q1733.12 68.6061 1729.51 70.5911 Q1725.91 72.576 1720.89 72.576 Q1712.54 72.576 1707.44 66.2161 Q1702.33 59.8562 1702.33 49.3643 Q1702.33 38.832 1707.44 32.472 Q1712.54 26.1121 1720.89 26.1121 Q1725.91 26.1121 1729.51 28.0971 Q1733.12 30.082 1735.43 34.0924 L1735.43 27.2059 L1742.88 27.2059 L1742.88 66.9452 Z\" fill=\"#000000\" fill-rule=\"evenodd\" fill-opacity=\"1\" /><path clip-path=\"url(#clip680)\" d=\"M 0 0 M1749.53 9.62495 L1756.01 9.62495 Q1762.08 19.1851 1765.08 28.3401 Q1768.12 37.4952 1768.12 46.5287 Q1768.12 55.6027 1765.08 64.7983 Q1762.08 73.9938 1756.01 83.5134 L1749.53 83.5134 Q1754.91 74.2369 1757.55 65.0818 Q1760.22 55.8863 1760.22 46.5287 Q1760.22 37.1711 1757.55 28.0566 Q1754.91 18.942 1749.53 9.62495 Z\" fill=\"#000000\" fill-rule=\"evenodd\" fill-opacity=\"1\" /><path clip-path=\"url(#clip680)\" d=\"M 0 0 M1164.19 1520.4 L1170.04 1520.4 L1170.04 1556.04 L1164.19 1556.04 L1164.19 1520.4 M1164.19 1506.52 L1170.04 1506.52 L1170.04 1513.93 L1164.19 1513.93 L1164.19 1506.52 Z\" fill=\"#000000\" fill-rule=\"evenodd\" fill-opacity=\"1\" /><path clip-path=\"url(#clip680)\" d=\"M 0 0 M1181.98 1510.27 L1181.98 1520.4 L1194.04 1520.4 L1194.04 1524.95 L1181.98 1524.95 L1181.98 1544.3 Q1181.98 1548.66 1183.16 1549.9 Q1184.37 1551.14 1188.03 1551.14 L1194.04 1551.14 L1194.04 1556.04 L1188.03 1556.04 Q1181.25 1556.04 1178.67 1553.53 Q1176.09 1550.98 1176.09 1544.3 L1176.09 1524.95 L1171.79 1524.95 L1171.79 1520.4 L1176.09 1520.4 L1176.09 1510.27 L1181.98 1510.27 Z\" fill=\"#000000\" fill-rule=\"evenodd\" fill-opacity=\"1\" /><path clip-path=\"url(#clip680)\" d=\"M 0 0 M1230.68 1536.76 L1230.68 1539.62 L1203.75 1539.62 Q1204.13 1545.67 1207.38 1548.85 Q1210.66 1552 1216.48 1552 Q1219.86 1552 1223.01 1551.17 Q1226.19 1550.35 1229.31 1548.69 L1229.31 1554.23 Q1226.16 1555.57 1222.85 1556.27 Q1219.54 1556.97 1216.13 1556.97 Q1207.6 1556.97 1202.6 1552 Q1197.64 1547.04 1197.64 1538.57 Q1197.64 1529.82 1202.35 1524.69 Q1207.09 1519.54 1215.11 1519.54 Q1222.31 1519.54 1226.48 1524.18 Q1230.68 1528.8 1230.68 1536.76 M1224.82 1535.04 Q1224.76 1530.23 1222.12 1527.37 Q1219.51 1524.5 1215.18 1524.5 Q1210.28 1524.5 1207.32 1527.27 Q1204.39 1530.04 1203.94 1535.07 L1224.82 1535.04 Z\" fill=\"#000000\" fill-rule=\"evenodd\" fill-opacity=\"1\" /><path clip-path=\"url(#clip680)\" d=\"M 0 0 M1257.48 1525.87 Q1256.49 1525.3 1255.31 1525.04 Q1254.17 1524.76 1252.77 1524.76 Q1247.8 1524.76 1245.13 1528 Q1242.49 1531.22 1242.49 1537.27 L1242.49 1556.04 L1236.6 1556.04 L1236.6 1520.4 L1242.49 1520.4 L1242.49 1525.93 Q1244.33 1522.69 1247.29 1521.13 Q1250.25 1519.54 1254.49 1519.54 Q1255.09 1519.54 1255.82 1519.63 Q1256.55 1519.7 1257.45 1519.85 L1257.48 1525.87 Z\" fill=\"#000000\" fill-rule=\"evenodd\" fill-opacity=\"1\" /><path clip-path=\"url(#clip680)\" d=\"M 0 0 M1279.82 1538.12 Q1272.72 1538.12 1269.99 1539.75 Q1267.25 1541.37 1267.25 1545.29 Q1267.25 1548.4 1269.29 1550.25 Q1271.35 1552.07 1274.89 1552.07 Q1279.76 1552.07 1282.69 1548.63 Q1285.65 1545.16 1285.65 1539.43 L1285.65 1538.12 L1279.82 1538.12 M1291.5 1535.71 L1291.5 1556.04 L1285.65 1556.04 L1285.65 1550.63 Q1283.64 1553.88 1280.65 1555.44 Q1277.66 1556.97 1273.33 1556.97 Q1267.85 1556.97 1264.61 1553.91 Q1261.39 1550.82 1261.39 1545.67 Q1261.39 1539.65 1265.4 1536.6 Q1269.44 1533.54 1277.43 1533.54 L1285.65 1533.54 L1285.65 1532.97 Q1285.65 1528.93 1282.97 1526.73 Q1280.33 1524.5 1275.52 1524.5 Q1272.47 1524.5 1269.57 1525.23 Q1266.68 1525.97 1264 1527.43 L1264 1522.02 Q1267.22 1520.78 1270.24 1520.17 Q1273.26 1519.54 1276.13 1519.54 Q1283.86 1519.54 1287.68 1523.55 Q1291.5 1527.56 1291.5 1535.71 Z\" fill=\"#000000\" fill-rule=\"evenodd\" fill-opacity=\"1\" /><path clip-path=\"url(#clip680)\" d=\"M 0 0 M1303.44 1510.27 L1303.44 1520.4 L1315.5 1520.4 L1315.5 1524.95 L1303.44 1524.95 L1303.44 1544.3 Q1303.44 1548.66 1304.62 1549.9 Q1305.82 1551.14 1309.49 1551.14 L1315.5 1551.14 L1315.5 1556.04 L1309.49 1556.04 Q1302.71 1556.04 1300.13 1553.53 Q1297.55 1550.98 1297.55 1544.3 L1297.55 1524.95 L1293.25 1524.95 L1293.25 1520.4 L1297.55 1520.4 L1297.55 1510.27 L1303.44 1510.27 Z\" fill=\"#000000\" fill-rule=\"evenodd\" fill-opacity=\"1\" /><path clip-path=\"url(#clip680)\" d=\"M 0 0 M1321.64 1520.4 L1327.5 1520.4 L1327.5 1556.04 L1321.64 1556.04 L1321.64 1520.4 M1321.64 1506.52 L1327.5 1506.52 L1327.5 1513.93 L1321.64 1513.93 L1321.64 1506.52 Z\" fill=\"#000000\" fill-rule=\"evenodd\" fill-opacity=\"1\" /><path clip-path=\"url(#clip680)\" d=\"M 0 0 M1347.46 1524.5 Q1342.75 1524.5 1340.01 1528.19 Q1337.27 1531.85 1337.27 1538.25 Q1337.27 1544.65 1339.98 1548.34 Q1342.71 1552 1347.46 1552 Q1352.14 1552 1354.87 1548.31 Q1357.61 1544.62 1357.61 1538.25 Q1357.61 1531.92 1354.87 1528.23 Q1352.14 1524.5 1347.46 1524.5 M1347.46 1519.54 Q1355.1 1519.54 1359.46 1524.5 Q1363.82 1529.47 1363.82 1538.25 Q1363.82 1547 1359.46 1552 Q1355.1 1556.97 1347.46 1556.97 Q1339.79 1556.97 1335.43 1552 Q1331.1 1547 1331.1 1538.25 Q1331.1 1529.47 1335.43 1524.5 Q1339.79 1519.54 1347.46 1519.54 Z\" fill=\"#000000\" fill-rule=\"evenodd\" fill-opacity=\"1\" /><path clip-path=\"url(#clip680)\" d=\"M 0 0 M1399.59 1534.53 L1399.59 1556.04 L1393.74 1556.04 L1393.74 1534.72 Q1393.74 1529.66 1391.76 1527.14 Q1389.79 1524.63 1385.84 1524.63 Q1381.1 1524.63 1378.36 1527.65 Q1375.62 1530.68 1375.62 1535.9 L1375.62 1556.04 L1369.74 1556.04 L1369.74 1520.4 L1375.62 1520.4 L1375.62 1525.93 Q1377.73 1522.72 1380.56 1521.13 Q1383.42 1519.54 1387.15 1519.54 Q1393.29 1519.54 1396.44 1523.36 Q1399.59 1527.14 1399.59 1534.53 Z\" fill=\"#000000\" fill-rule=\"evenodd\" fill-opacity=\"1\" /><path clip-path=\"url(#clip680)\" d=\"M 0 0 M53.7248 804.773 L59.1993 804.773 Q57.8307 807.255 57.1623 809.77 Q56.4621 812.252 56.4621 814.799 Q56.4621 820.496 60.0905 823.647 Q63.6872 826.798 70.212 826.798 Q76.7369 826.798 80.3653 823.647 Q83.9619 820.496 83.9619 814.799 Q83.9619 812.252 83.2935 809.77 Q82.5933 807.255 81.2247 804.773 L86.6355 804.773 Q87.7814 807.223 88.3543 809.865 Q88.9272 812.475 88.9272 815.435 Q88.9272 823.488 83.8664 828.23 Q78.8057 832.973 70.212 832.973 Q61.491 832.973 56.4939 828.198 Q51.4968 823.392 51.4968 815.053 Q51.4968 812.348 52.0697 809.77 Q52.6108 807.192 53.7248 804.773 Z\" fill=\"#000000\" fill-rule=\"evenodd\" fill-opacity=\"1\" /><path clip-path=\"url(#clip680)\" d=\"M 0 0 M56.4621 784.816 Q56.4621 789.527 60.1542 792.264 Q63.8145 795.001 70.212 795.001 Q76.6095 795.001 80.3017 792.296 Q83.9619 789.559 83.9619 784.816 Q83.9619 780.137 80.2698 777.4 Q76.5777 774.663 70.212 774.663 Q63.8781 774.663 60.186 777.4 Q56.4621 780.137 56.4621 784.816 M51.4968 784.816 Q51.4968 777.177 56.4621 772.817 Q61.4273 768.456 70.212 768.456 Q78.9649 768.456 83.9619 772.817 Q88.9272 777.177 88.9272 784.816 Q88.9272 792.487 83.9619 796.847 Q78.9649 801.176 70.212 801.176 Q61.4273 801.176 56.4621 796.847 Q51.4968 792.487 51.4968 784.816 Z\" fill=\"#000000\" fill-rule=\"evenodd\" fill-opacity=\"1\" /><path clip-path=\"url(#clip680)\" d=\"M 0 0 M53.4065 739.588 L58.9447 739.588 Q57.6716 742.07 57.035 744.744 Q56.3984 747.418 56.3984 750.282 Q56.3984 754.643 57.7352 756.839 Q59.072 759.003 61.7456 759.003 Q63.7826 759.003 64.9603 757.444 Q66.1061 755.884 67.1565 751.173 L67.6021 749.168 Q68.9389 742.93 71.3897 740.32 Q73.8086 737.678 78.1691 737.678 Q83.1344 737.678 86.0308 741.625 Q88.9272 745.54 88.9272 752.415 Q88.9272 755.279 88.3543 758.398 Q87.8132 761.486 86.6992 764.923 L80.6518 764.923 Q82.3387 761.677 83.198 758.526 Q84.0256 755.375 84.0256 752.287 Q84.0256 748.15 82.6251 745.922 Q81.1929 743.694 78.6147 743.694 Q76.2276 743.694 74.9545 745.317 Q73.6813 746.908 72.5037 752.351 L72.0262 754.388 Q70.8804 759.831 68.5251 762.25 Q66.138 764.669 62.0002 764.669 Q56.9713 764.669 54.2341 761.104 Q51.4968 757.539 51.4968 750.982 Q51.4968 747.736 51.9743 744.871 Q52.4517 742.007 53.4065 739.588 Z\" fill=\"#000000\" fill-rule=\"evenodd\" fill-opacity=\"1\" /><path clip-path=\"url(#clip680)\" d=\"M 0 0 M42.2347 725.742 L52.3562 725.742 L52.3562 713.679 L56.9077 713.679 L56.9077 725.742 L76.2594 725.742 Q80.6199 725.742 81.8613 724.565 Q83.1026 723.355 83.1026 719.695 L83.1026 713.679 L88.0042 713.679 L88.0042 719.695 Q88.0042 726.474 85.4897 729.052 Q82.9434 731.631 76.2594 731.631 L56.9077 731.631 L56.9077 735.927 L52.3562 735.927 L52.3562 731.631 L42.2347 731.631 L42.2347 725.742 Z\" fill=\"#000000\" fill-rule=\"evenodd\" fill-opacity=\"1\" /><polyline clip-path=\"url(#clip682)\" style=\"stroke:#009af9; stroke-width:12; stroke-opacity:1; fill:none\" points=\"\n",
       "  271.639,160.256 272.987,164.488 274.335,168.711 275.682,172.925 277.03,177.13 278.378,181.327 279.726,185.514 281.074,189.692 282.422,193.862 283.77,198.022 \n",
       "  285.118,202.173 286.466,206.316 287.814,210.449 289.161,214.573 290.509,218.689 291.857,222.795 293.205,226.892 294.553,230.981 295.901,235.06 297.249,239.13 \n",
       "  298.597,243.191 299.945,247.243 301.293,251.286 302.64,255.319 303.988,259.344 305.336,263.36 306.684,267.366 308.032,271.363 309.38,275.351 310.728,279.33 \n",
       "  312.076,283.3 313.424,287.261 314.772,291.212 316.119,295.155 317.467,299.088 318.815,303.012 320.163,306.926 321.511,310.832 322.859,314.728 324.207,318.615 \n",
       "  325.555,322.493 326.903,326.362 328.251,330.221 329.598,334.071 330.946,337.912 332.294,341.744 333.642,345.567 334.99,349.38 336.338,353.184 337.686,356.978 \n",
       "  339.034,360.764 340.382,364.54 341.73,368.307 343.077,372.064 344.425,375.813 345.773,379.551 347.121,383.281 348.469,387.002 349.817,390.713 351.165,394.414 \n",
       "  352.513,398.107 353.861,401.79 355.209,405.464 356.556,409.128 357.904,412.783 359.252,416.429 360.6,420.066 361.948,423.693 363.296,427.311 364.644,430.919 \n",
       "  365.992,434.518 367.34,438.108 368.688,441.689 370.035,445.26 371.383,448.822 372.731,452.374 374.079,455.917 375.427,459.451 376.775,462.975 378.123,466.491 \n",
       "  379.471,469.996 380.819,473.493 382.167,476.98 383.514,480.457 384.862,483.926 386.21,487.385 387.558,490.834 388.906,494.275 390.254,497.706 391.602,501.127 \n",
       "  392.95,504.54 394.298,507.942 395.646,511.336 396.993,514.72 398.341,518.095 399.689,521.461 401.037,524.817 402.385,528.164 403.733,531.501 405.081,534.83 \n",
       "  406.429,538.149 407.777,541.458 409.125,544.758 410.472,548.049 411.82,551.331 413.168,554.603 414.516,557.866 415.864,561.12 417.212,564.364 418.56,567.599 \n",
       "  419.908,570.825 421.256,574.042 422.604,577.249 423.951,580.447 425.299,583.635 426.647,586.815 427.995,589.985 429.343,593.146 430.691,596.297 432.039,599.439 \n",
       "  433.387,602.572 434.735,605.696 436.083,608.811 437.43,611.916 438.778,615.012 440.126,618.099 441.474,621.177 442.822,624.245 444.17,627.304 445.518,630.354 \n",
       "  446.866,633.395 448.214,636.427 449.562,639.449 450.909,642.463 452.257,645.467 453.605,648.462 454.953,651.447 456.301,654.424 457.649,657.392 458.997,660.35 \n",
       "  460.345,663.299 461.693,666.239 463.041,669.17 464.388,672.092 465.736,675.005 467.084,677.909 468.432,680.804 469.78,683.689 471.128,686.566 472.476,689.433 \n",
       "  473.824,692.292 475.172,695.141 476.52,697.981 477.867,700.813 479.215,703.635 480.563,706.449 481.911,709.253 483.259,712.048 484.607,714.835 485.955,717.612 \n",
       "  487.303,720.381 488.651,723.141 489.999,725.891 491.346,728.633 492.694,731.366 494.042,734.09 495.39,736.805 496.738,739.511 498.086,742.209 499.434,744.897 \n",
       "  500.782,747.577 502.13,750.248 503.478,752.91 504.825,755.563 506.173,758.207 507.521,760.843 508.869,763.47 510.217,766.088 511.565,768.697 512.913,771.298 \n",
       "  514.261,773.89 515.609,776.473 516.957,779.048 518.304,781.613 519.652,784.171 521,786.719 522.348,789.259 523.696,791.79 525.044,794.313 526.392,796.827 \n",
       "  527.74,799.332 529.088,801.829 530.436,804.317 531.783,806.797 533.131,809.268 534.479,811.731 535.827,814.185 537.175,816.63 538.523,819.068 539.871,821.496 \n",
       "  541.219,823.916 542.567,826.328 543.915,828.732 545.262,831.126 546.61,833.513 547.958,835.891 549.306,838.261 550.654,840.622 552.002,842.975 553.35,845.32 \n",
       "  554.698,847.657 556.046,849.985 557.394,852.305 558.741,854.616 560.089,856.919 561.437,859.215 562.785,861.501 564.133,863.78 565.481,866.051 566.829,868.313 \n",
       "  568.177,870.567 569.525,872.813 570.873,875.051 572.22,877.281 573.568,879.503 574.916,881.716 576.264,883.922 577.612,886.119 578.96,888.309 580.308,890.49 \n",
       "  581.656,892.664 583.004,894.829 584.352,896.987 585.699,899.136 587.047,901.278 588.395,903.412 589.743,905.538 591.091,907.656 592.439,909.766 593.787,911.868 \n",
       "  595.135,913.963 596.483,916.049 597.831,918.128 599.178,920.199 600.526,922.263 601.874,924.318 603.222,926.366 604.57,928.406 605.918,930.439 607.266,932.464 \n",
       "  608.614,934.481 609.962,936.49 611.31,938.492 612.657,940.486 614.005,942.473 615.353,944.452 616.701,946.424 618.049,948.388 619.397,950.344 620.745,952.294 \n",
       "  622.093,954.235 623.441,956.169 624.789,958.096 626.136,960.015 627.484,961.927 628.832,963.832 630.18,965.729 631.528,967.619 632.876,969.501 634.224,971.376 \n",
       "  635.572,973.244 636.92,975.105 638.268,976.958 639.615,978.804 640.963,980.643 642.311,982.475 643.659,984.299 645.007,986.116 646.355,987.927 647.703,989.73 \n",
       "  649.051,991.526 650.399,993.315 651.747,995.096 653.094,996.871 654.442,998.639 655.79,1000.4 657.138,1002.15 658.486,1003.9 659.834,1005.64 661.182,1007.37 \n",
       "  662.53,1009.1 663.878,1010.82 665.226,1012.53 666.573,1014.24 667.921,1015.93 669.269,1017.63 670.617,1019.31 671.965,1020.99 673.313,1022.66 674.661,1024.32 \n",
       "  676.009,1025.98 677.357,1027.63 678.705,1029.28 680.052,1030.92 681.4,1032.55 682.748,1034.17 684.096,1035.79 685.444,1037.4 686.792,1039.01 688.14,1040.6 \n",
       "  689.488,1042.2 690.836,1043.78 692.184,1045.36 693.531,1046.93 694.879,1048.5 696.227,1050.06 697.575,1051.61 698.923,1053.16 700.271,1054.7 701.619,1056.23 \n",
       "  702.967,1057.76 704.315,1059.28 705.663,1060.79 707.01,1062.3 708.358,1063.8 709.706,1065.3 711.054,1066.79 712.402,1068.27 713.75,1069.75 715.098,1071.22 \n",
       "  716.446,1072.69 717.794,1074.15 719.142,1075.6 720.489,1077.05 721.837,1078.49 723.185,1079.92 724.533,1081.35 725.881,1082.77 727.229,1084.19 728.577,1085.6 \n",
       "  729.925,1087 731.273,1088.4 732.621,1089.8 733.968,1091.18 735.316,1092.56 736.664,1093.94 738.012,1095.31 739.36,1096.67 740.708,1098.03 742.056,1099.38 \n",
       "  743.404,1100.73 744.752,1102.07 746.1,1103.4 747.447,1104.73 748.795,1106.06 750.143,1107.37 751.491,1108.69 752.839,1109.99 754.187,1111.29 755.535,1112.59 \n",
       "  756.883,1113.88 758.231,1115.16 759.579,1116.44 760.926,1117.71 762.274,1118.98 763.622,1120.24 764.97,1121.5 766.318,1122.75 767.666,1124 769.014,1125.24 \n",
       "  770.362,1126.47 771.71,1127.7 773.058,1128.93 774.405,1130.15 775.753,1131.36 777.101,1132.57 778.449,1133.77 779.797,1134.97 781.145,1136.16 782.493,1137.35 \n",
       "  783.841,1138.53 785.189,1139.71 786.537,1140.88 787.884,1142.05 789.232,1143.21 790.58,1144.37 791.928,1145.52 793.276,1146.67 794.624,1147.81 795.972,1148.94 \n",
       "  797.32,1150.07 798.668,1151.2 800.016,1152.32 801.363,1153.44 802.711,1154.55 804.059,1155.66 805.407,1156.76 806.755,1157.86 808.103,1158.95 809.451,1160.03 \n",
       "  810.799,1161.12 812.147,1162.19 813.495,1163.27 814.842,1164.34 816.19,1165.4 817.538,1166.46 818.886,1167.51 820.234,1168.56 821.582,1169.6 822.93,1170.64 \n",
       "  824.278,1171.68 825.626,1172.71 826.974,1173.74 828.321,1174.76 829.669,1175.77 831.017,1176.78 832.365,1177.79 833.713,1178.8 835.061,1179.79 836.409,1180.79 \n",
       "  837.757,1181.78 839.105,1182.76 840.453,1183.74 841.8,1184.72 843.148,1185.69 844.496,1186.66 845.844,1187.62 847.192,1188.58 848.54,1189.53 849.888,1190.48 \n",
       "  851.236,1191.43 852.584,1192.37 853.932,1193.31 855.279,1194.24 856.627,1195.17 857.975,1196.09 859.323,1197.01 860.671,1197.93 862.019,1198.84 863.367,1199.75 \n",
       "  864.715,1200.65 866.063,1201.55 867.411,1202.45 868.758,1203.34 870.106,1204.23 871.454,1205.11 872.802,1205.99 874.15,1206.86 875.498,1207.73 876.846,1208.6 \n",
       "  878.194,1209.46 879.542,1210.32 880.89,1211.18 882.237,1212.03 883.585,1212.88 884.933,1213.72 886.281,1214.56 887.629,1215.4 888.977,1216.23 890.325,1217.06 \n",
       "  891.673,1217.88 893.021,1218.7 894.369,1219.52 895.716,1220.33 897.064,1221.14 898.412,1221.94 899.76,1222.75 901.108,1223.54 902.456,1224.34 903.804,1225.13 \n",
       "  905.152,1225.92 906.5,1226.7 907.848,1227.48 909.195,1228.25 910.543,1229.03 911.891,1229.8 913.239,1230.56 914.587,1231.32 915.935,1232.08 917.283,1232.83 \n",
       "  918.631,1233.59 919.979,1234.33 921.327,1235.08 922.674,1235.82 924.022,1236.56 925.37,1237.29 926.718,1238.02 928.066,1238.75 929.414,1239.47 930.762,1240.19 \n",
       "  932.11,1240.91 933.458,1241.62 934.806,1242.33 936.153,1243.04 937.501,1243.74 938.849,1244.44 940.197,1245.14 941.545,1245.83 942.893,1246.52 944.241,1247.21 \n",
       "  945.589,1247.89 946.937,1248.57 948.285,1249.25 949.632,1249.92 950.98,1250.59 952.328,1251.26 953.676,1251.93 955.024,1252.59 956.372,1253.25 957.72,1253.9 \n",
       "  959.068,1254.55 960.416,1255.2 961.764,1255.85 963.111,1256.49 964.459,1257.13 965.807,1257.77 967.155,1258.4 968.503,1259.03 969.851,1259.66 971.199,1260.29 \n",
       "  972.547,1260.91 973.895,1261.53 975.243,1262.14 976.59,1262.76 977.938,1263.37 979.286,1263.98 980.634,1264.58 981.982,1265.18 983.33,1265.78 984.678,1266.38 \n",
       "  986.026,1266.97 987.374,1267.56 988.722,1268.15 990.069,1268.73 991.417,1269.31 992.765,1269.89 994.113,1270.47 995.461,1271.04 996.809,1271.61 998.157,1272.18 \n",
       "  999.505,1272.75 1000.85,1273.31 1002.2,1273.87 1003.55,1274.43 1004.9,1274.98 1006.24,1275.54 1007.59,1276.08 1008.94,1276.63 1010.29,1277.18 1011.64,1277.72 \n",
       "  1012.98,1278.26 1014.33,1278.79 1015.68,1279.33 1017.03,1279.86 1018.38,1280.39 1019.72,1280.91 1021.07,1281.44 1022.42,1281.96 1023.77,1282.48 1025.11,1282.99 \n",
       "  1026.46,1283.51 1027.81,1284.02 1029.16,1284.53 1030.51,1285.03 1031.85,1285.54 1033.2,1286.04 1034.55,1286.54 1035.9,1287.03 1037.25,1287.53 1038.59,1288.02 \n",
       "  1039.94,1288.51 1041.29,1289 1042.64,1289.48 1043.99,1289.96 1045.33,1290.45 1046.68,1290.92 1048.03,1291.4 1049.38,1291.87 1050.72,1292.34 1052.07,1292.81 \n",
       "  1053.42,1293.28 1054.77,1293.74 1056.12,1294.2 1057.46,1294.66 1058.81,1295.12 1060.16,1295.58 1061.51,1296.03 1062.86,1296.48 1064.2,1296.93 1065.55,1297.38 \n",
       "  1066.9,1297.82 1068.25,1298.26 1069.6,1298.7 1070.94,1299.14 1072.29,1299.58 1073.64,1300.01 1074.99,1300.44 1076.34,1300.87 1077.68,1301.3 1079.03,1301.72 \n",
       "  1080.38,1302.15 1081.73,1302.57 1083.07,1302.99 1084.42,1303.41 1085.77,1303.82 1087.12,1304.23 1088.47,1304.64 1089.81,1305.05 1091.16,1305.46 1092.51,1305.87 \n",
       "  1093.86,1306.27 1095.21,1306.67 1096.55,1307.07 1097.9,1307.47 1099.25,1307.86 1100.6,1308.26 1101.95,1308.65 1103.29,1309.04 1104.64,1309.42 1105.99,1309.81 \n",
       "  1107.34,1310.19 1108.68,1310.58 1110.03,1310.96 1111.38,1311.34 1112.73,1311.71 1114.08,1312.09 1115.42,1312.46 1116.77,1312.83 1118.12,1313.2 1119.47,1313.57 \n",
       "  1120.82,1313.93 1122.16,1314.3 1123.51,1314.66 1124.86,1315.02 1126.21,1315.38 1127.56,1315.73 1128.9,1316.09 1130.25,1316.44 1131.6,1316.79 1132.95,1317.14 \n",
       "  1134.29,1317.49 1135.64,1317.84 1136.99,1318.18 1138.34,1318.53 1139.69,1318.87 1141.03,1319.21 1142.38,1319.55 1143.73,1319.88 1145.08,1320.22 1146.43,1320.55 \n",
       "  1147.77,1320.88 1149.12,1321.21 1150.47,1321.54 1151.82,1321.87 1153.17,1322.19 1154.51,1322.52 1155.86,1322.84 1157.21,1323.16 1158.56,1323.48 1159.9,1323.79 \n",
       "  1161.25,1324.11 1162.6,1324.42 1163.95,1324.74 1165.3,1325.05 1166.64,1325.36 1167.99,1325.66 1169.34,1325.97 1170.69,1326.27 1172.04,1326.58 1173.38,1326.88 \n",
       "  1174.73,1327.18 1176.08,1327.48 1177.43,1327.78 1178.78,1328.07 1180.12,1328.37 1181.47,1328.66 1182.82,1328.95 1184.17,1329.24 1185.51,1329.53 1186.86,1329.82 \n",
       "  1188.21,1330.1 1189.56,1330.39 1190.91,1330.67 1192.25,1330.95 1193.6,1331.23 1194.95,1331.51 1196.3,1331.79 1197.65,1332.07 1198.99,1332.34 1200.34,1332.62 \n",
       "  1201.69,1332.89 1203.04,1333.16 1204.39,1333.43 1205.73,1333.7 1207.08,1333.96 1208.43,1334.23 1209.78,1334.49 1211.13,1334.76 1212.47,1335.02 1213.82,1335.28 \n",
       "  1215.17,1335.54 1216.52,1335.8 1217.86,1336.05 1219.21,1336.31 1220.56,1336.56 1221.91,1336.81 1223.26,1337.07 1224.6,1337.32 1225.95,1337.56 1227.3,1337.81 \n",
       "  1228.65,1338.06 1230,1338.3 1231.34,1338.55 1232.69,1338.79 1234.04,1339.03 1235.39,1339.27 1236.74,1339.51 1238.08,1339.75 1239.43,1339.99 1240.78,1340.22 \n",
       "  1242.13,1340.46 1243.47,1340.69 1244.82,1340.92 1246.17,1341.16 1247.52,1341.39 1248.87,1341.61 1250.21,1341.84 1251.56,1342.07 1252.91,1342.29 1254.26,1342.52 \n",
       "  1255.61,1342.74 1256.95,1342.96 1258.3,1343.18 1259.65,1343.4 1261,1343.62 1262.35,1343.84 1263.69,1344.06 1265.04,1344.27 1266.39,1344.49 1267.74,1344.7 \n",
       "  1269.08,1344.91 1270.43,1345.13 1271.78,1345.34 1273.13,1345.55 1274.48,1345.75 1275.82,1345.96 1277.17,1346.17 1278.52,1346.37 1279.87,1346.58 1281.22,1346.78 \n",
       "  1282.56,1346.98 1283.91,1347.18 1285.26,1347.38 1286.61,1347.58 1287.96,1347.78 1289.3,1347.98 1290.65,1348.17 1292,1348.37 1293.35,1348.56 1294.69,1348.76 \n",
       "  1296.04,1348.95 1297.39,1349.14 1298.74,1349.33 1300.09,1349.52 1301.43,1349.71 1302.78,1349.9 1304.13,1350.08 1305.48,1350.27 1306.83,1350.45 1308.17,1350.64 \n",
       "  1309.52,1350.82 1310.87,1351 1312.22,1351.18 1313.57,1351.36 1314.91,1351.54 1316.26,1351.72 1317.61,1351.9 1318.96,1352.08 1320.3,1352.25 1321.65,1352.43 \n",
       "  1323,1352.6 1324.35,1352.77 1325.7,1352.95 1327.04,1353.12 1328.39,1353.29 1329.74,1353.46 1331.09,1353.63 1332.44,1353.8 1333.78,1353.96 1335.13,1354.13 \n",
       "  1336.48,1354.3 1337.83,1354.46 1339.18,1354.62 1340.52,1354.79 1341.87,1354.95 1343.22,1355.11 1344.57,1355.27 1345.92,1355.43 1347.26,1355.59 1348.61,1355.75 \n",
       "  1349.96,1355.91 1351.31,1356.06 1352.65,1356.22 1354,1356.38 1355.35,1356.53 1356.7,1356.68 1358.05,1356.84 1359.39,1356.99 1360.74,1357.14 1362.09,1357.29 \n",
       "  1363.44,1357.44 1364.79,1357.59 1366.13,1357.74 1367.48,1357.89 1368.83,1358.03 1370.18,1358.18 1371.53,1358.33 1372.87,1358.47 1374.22,1358.61 1375.57,1358.76 \n",
       "  1376.92,1358.9 1378.26,1359.04 1379.61,1359.18 1380.96,1359.32 1382.31,1359.46 1383.66,1359.6 1385,1359.74 1386.35,1359.88 1387.7,1360.02 1389.05,1360.15 \n",
       "  1390.4,1360.29 1391.74,1360.42 1393.09,1360.56 1394.44,1360.69 1395.79,1360.82 1397.14,1360.96 1398.48,1361.09 1399.83,1361.22 1401.18,1361.35 1402.53,1361.48 \n",
       "  1403.87,1361.61 1405.22,1361.74 1406.57,1361.86 1407.92,1361.99 1409.27,1362.12 1410.61,1362.24 1411.96,1362.37 1413.31,1362.49 1414.66,1362.62 1416.01,1362.74 \n",
       "  1417.35,1362.86 1418.7,1362.99 1420.05,1363.11 1421.4,1363.23 1422.75,1363.35 1424.09,1363.47 1425.44,1363.59 1426.79,1363.71 1428.14,1363.82 1429.48,1363.94 \n",
       "  1430.83,1364.06 1432.18,1364.17 1433.53,1364.29 1434.88,1364.41 1436.22,1364.52 1437.57,1364.63 1438.92,1364.75 1440.27,1364.86 1441.62,1364.97 1442.96,1365.08 \n",
       "  1444.31,1365.19 1445.66,1365.31 1447.01,1365.42 1448.36,1365.52 1449.7,1365.63 1451.05,1365.74 1452.4,1365.85 1453.75,1365.96 1455.09,1366.06 1456.44,1366.17 \n",
       "  1457.79,1366.28 1459.14,1366.38 1460.49,1366.49 1461.83,1366.59 1463.18,1366.69 1464.53,1366.8 1465.88,1366.9 1467.23,1367 1468.57,1367.1 1469.92,1367.2 \n",
       "  1471.27,1367.3 1472.62,1367.4 1473.97,1367.5 1475.31,1367.6 1476.66,1367.7 1478.01,1367.8 1479.36,1367.9 1480.71,1367.99 1482.05,1368.09 1483.4,1368.19 \n",
       "  1484.75,1368.28 1486.1,1368.38 1487.44,1368.47 1488.79,1368.57 1490.14,1368.66 1491.49,1368.75 1492.84,1368.85 1494.18,1368.94 1495.53,1369.03 1496.88,1369.12 \n",
       "  1498.23,1369.21 1499.58,1369.3 1500.92,1369.39 1502.27,1369.48 1503.62,1369.57 1504.97,1369.66 1506.32,1369.75 1507.66,1369.84 1509.01,1369.92 1510.36,1370.01 \n",
       "  1511.71,1370.1 1513.05,1370.18 1514.4,1370.27 1515.75,1370.35 1517.1,1370.44 1518.45,1370.52 1519.79,1370.61 1521.14,1370.69 1522.49,1370.77 1523.84,1370.86 \n",
       "  1525.19,1370.94 1526.53,1371.02 1527.88,1371.1 1529.23,1371.18 1530.58,1371.26 1531.93,1371.34 1533.27,1371.42 1534.62,1371.5 1535.97,1371.58 1537.32,1371.66 \n",
       "  1538.66,1371.74 1540.01,1371.82 1541.36,1371.9 1542.71,1371.97 1544.06,1372.05 1545.4,1372.13 1546.75,1372.2 1548.1,1372.28 1549.45,1372.35 1550.8,1372.43 \n",
       "  1552.14,1372.5 1553.49,1372.58 1554.84,1372.65 1556.19,1372.72 1557.54,1372.8 1558.88,1372.87 1560.23,1372.94 1561.58,1373.01 1562.93,1373.08 1564.27,1373.15 \n",
       "  1565.62,1373.23 1566.97,1373.3 1568.32,1373.37 1569.67,1373.44 1571.01,1373.51 1572.36,1373.57 1573.71,1373.64 1575.06,1373.71 1576.41,1373.78 1577.75,1373.85 \n",
       "  1579.1,1373.91 1580.45,1373.98 1581.8,1374.05 1583.15,1374.11 1584.49,1374.18 1585.84,1374.25 1587.19,1374.31 1588.54,1374.38 1589.88,1374.44 1591.23,1374.51 \n",
       "  1592.58,1374.57 1593.93,1374.63 1595.28,1374.7 1596.62,1374.76 1597.97,1374.82 1599.32,1374.89 1600.67,1374.95 1602.02,1375.01 1603.36,1375.07 1604.71,1375.13 \n",
       "  1606.06,1375.19 1607.41,1375.25 1608.76,1375.31 1610.1,1375.37 1611.45,1375.43 1612.8,1375.49 1614.15,1375.55 1615.5,1375.61 1616.84,1375.67 1618.19,1375.73 \n",
       "  1619.54,1375.79 1620.89,1375.84 1622.23,1375.9 1623.58,1375.96 1624.93,1376.02 1626.28,1376.07 1627.63,1376.13 1628.97,1376.18 1630.32,1376.24 1631.67,1376.3 \n",
       "  1633.02,1376.35 1634.37,1376.4 1635.71,1376.46 1637.06,1376.51 1638.41,1376.57 1639.76,1376.62 1641.11,1376.68 1642.45,1376.73 1643.8,1376.78 1645.15,1376.83 \n",
       "  1646.5,1376.89 1647.84,1376.94 1649.19,1376.99 1650.54,1377.04 1651.89,1377.09 1653.24,1377.14 1654.58,1377.2 1655.93,1377.25 1657.28,1377.3 1658.63,1377.35 \n",
       "  1659.98,1377.4 1661.32,1377.45 1662.67,1377.5 1664.02,1377.54 1665.37,1377.59 1666.72,1377.64 1668.06,1377.69 1669.41,1377.74 1670.76,1377.79 1672.11,1377.83 \n",
       "  1673.45,1377.88 1674.8,1377.93 1676.15,1377.98 1677.5,1378.02 1678.85,1378.07 1680.19,1378.12 1681.54,1378.16 1682.89,1378.21 1684.24,1378.25 1685.59,1378.3 \n",
       "  1686.93,1378.34 1688.28,1378.39 1689.63,1378.43 1690.98,1378.48 1692.33,1378.52 1693.67,1378.57 1695.02,1378.61 1696.37,1378.65 1697.72,1378.7 1699.06,1378.74 \n",
       "  1700.41,1378.78 1701.76,1378.83 1703.11,1378.87 1704.46,1378.91 1705.8,1378.95 1707.15,1378.99 1708.5,1379.04 1709.85,1379.08 1711.2,1379.12 1712.54,1379.16 \n",
       "  1713.89,1379.2 1715.24,1379.24 1716.59,1379.28 1717.94,1379.32 1719.28,1379.36 1720.63,1379.4 1721.98,1379.44 1723.33,1379.48 1724.67,1379.52 1726.02,1379.56 \n",
       "  1727.37,1379.6 1728.72,1379.64 1730.07,1379.67 1731.41,1379.71 1732.76,1379.75 1734.11,1379.79 1735.46,1379.83 1736.81,1379.86 1738.15,1379.9 1739.5,1379.94 \n",
       "  1740.85,1379.98 1742.2,1380.01 1743.55,1380.05 1744.89,1380.09 1746.24,1380.12 1747.59,1380.16 1748.94,1380.19 1750.29,1380.23 1751.63,1380.26 1752.98,1380.3 \n",
       "  1754.33,1380.34 1755.68,1380.37 1757.02,1380.4 1758.37,1380.44 1759.72,1380.47 1761.07,1380.51 1762.42,1380.54 1763.76,1380.58 1765.11,1380.61 1766.46,1380.64 \n",
       "  1767.81,1380.68 1769.16,1380.71 1770.5,1380.74 1771.85,1380.78 1773.2,1380.81 1774.55,1380.84 1775.9,1380.87 1777.24,1380.91 1778.59,1380.94 1779.94,1380.97 \n",
       "  1781.29,1381 1782.63,1381.03 1783.98,1381.07 1785.33,1381.1 1786.68,1381.13 1788.03,1381.16 1789.37,1381.19 1790.72,1381.22 1792.07,1381.25 1793.42,1381.28 \n",
       "  1794.77,1381.31 1796.11,1381.34 1797.46,1381.37 1798.81,1381.4 1800.16,1381.43 1801.51,1381.46 1802.85,1381.49 1804.2,1381.52 1805.55,1381.55 1806.9,1381.58 \n",
       "  1808.24,1381.61 1809.59,1381.63 1810.94,1381.66 1812.29,1381.69 1813.64,1381.72 1814.98,1381.75 1816.33,1381.78 1817.68,1381.8 1819.03,1381.83 1820.38,1381.86 \n",
       "  1821.72,1381.89 1823.07,1381.91 1824.42,1381.94 1825.77,1381.97 1827.12,1381.99 1828.46,1382.02 1829.81,1382.05 1831.16,1382.07 1832.51,1382.1 1833.85,1382.13 \n",
       "  1835.2,1382.15 1836.55,1382.18 1837.9,1382.2 1839.25,1382.23 1840.59,1382.25 1841.94,1382.28 1843.29,1382.31 1844.64,1382.33 1845.99,1382.36 1847.33,1382.38 \n",
       "  1848.68,1382.41 1850.03,1382.43 1851.38,1382.45 1852.73,1382.48 1854.07,1382.5 1855.42,1382.53 1856.77,1382.55 1858.12,1382.58 1859.46,1382.6 1860.81,1382.62 \n",
       "  1862.16,1382.65 1863.51,1382.67 1864.86,1382.69 1866.2,1382.72 1867.55,1382.74 1868.9,1382.76 1870.25,1382.78 1871.6,1382.81 1872.94,1382.83 1874.29,1382.85 \n",
       "  1875.64,1382.88 1876.99,1382.9 1878.34,1382.92 1879.68,1382.94 1881.03,1382.96 1882.38,1382.99 1883.73,1383.01 1885.08,1383.03 1886.42,1383.05 1887.77,1383.07 \n",
       "  1889.12,1383.09 1890.47,1383.11 1891.81,1383.14 1893.16,1383.16 1894.51,1383.18 1895.86,1383.2 1897.21,1383.22 1898.55,1383.24 1899.9,1383.26 1901.25,1383.28 \n",
       "  1902.6,1383.3 1903.95,1383.32 1905.29,1383.34 1906.64,1383.36 1907.99,1383.38 1909.34,1383.4 1910.69,1383.42 1912.03,1383.44 1913.38,1383.46 1914.73,1383.48 \n",
       "  1916.08,1383.5 1917.42,1383.52 1918.77,1383.54 1920.12,1383.56 1921.47,1383.57 1922.82,1383.59 1924.16,1383.61 1925.51,1383.63 1926.86,1383.65 1928.21,1383.67 \n",
       "  1929.56,1383.69 1930.9,1383.7 1932.25,1383.72 1933.6,1383.74 1934.95,1383.76 1936.3,1383.78 1937.64,1383.79 1938.99,1383.81 1940.34,1383.83 1941.69,1383.85 \n",
       "  1943.03,1383.86 1944.38,1383.88 1945.73,1383.9 1947.08,1383.92 1948.43,1383.93 1949.77,1383.95 1951.12,1383.97 1952.47,1383.98 1953.82,1384 1955.17,1384.02 \n",
       "  1956.51,1384.03 1957.86,1384.05 1959.21,1384.07 1960.56,1384.08 1961.91,1384.1 1963.25,1384.12 1964.6,1384.13 1965.95,1384.15 1967.3,1384.16 1968.64,1384.18 \n",
       "  1969.99,1384.2 1971.34,1384.21 1972.69,1384.23 1974.04,1384.24 1975.38,1384.26 1976.73,1384.27 1978.08,1384.29 1979.43,1384.3 1980.78,1384.32 1982.12,1384.33 \n",
       "  1983.47,1384.35 1984.82,1384.36 1986.17,1384.38 1987.52,1384.39 1988.86,1384.41 1990.21,1384.42 1991.56,1384.44 1992.91,1384.45 1994.25,1384.47 1995.6,1384.48 \n",
       "  1996.95,1384.5 1998.3,1384.51 1999.65,1384.52 2000.99,1384.54 2002.34,1384.55 2003.69,1384.57 2005.04,1384.58 2006.39,1384.59 2007.73,1384.61 2009.08,1384.62 \n",
       "  2010.43,1384.63 2011.78,1384.65 2013.13,1384.66 2014.47,1384.67 2015.82,1384.69 2017.17,1384.7 2018.52,1384.71 2019.87,1384.73 2021.21,1384.74 2022.56,1384.75 \n",
       "  2023.91,1384.77 2025.26,1384.78 2026.6,1384.79 2027.95,1384.81 2029.3,1384.82 2030.65,1384.83 2032,1384.84 2033.34,1384.86 2034.69,1384.87 2036.04,1384.88 \n",
       "  2037.39,1384.89 2038.74,1384.91 2040.08,1384.92 2041.43,1384.93 2042.78,1384.94 2044.13,1384.95 2045.48,1384.97 2046.82,1384.98 2048.17,1384.99 2049.52,1385 \n",
       "  2050.87,1385.01 2052.21,1385.02 2053.56,1385.04 2054.91,1385.05 2056.26,1385.06 2057.61,1385.07 2058.95,1385.08 2060.3,1385.09 2061.65,1385.1 2063,1385.12 \n",
       "  2064.35,1385.13 2065.69,1385.14 2067.04,1385.15 2068.39,1385.16 2069.74,1385.17 2071.09,1385.18 2072.43,1385.19 2073.78,1385.2 2075.13,1385.21 2076.48,1385.22 \n",
       "  2077.82,1385.23 2079.17,1385.25 2080.52,1385.26 2081.87,1385.27 2083.22,1385.28 2084.56,1385.29 2085.91,1385.3 2087.26,1385.31 2088.61,1385.32 2089.96,1385.33 \n",
       "  2091.3,1385.34 2092.65,1385.35 2094,1385.36 2095.35,1385.37 2096.7,1385.38 2098.04,1385.39 2099.39,1385.4 2100.74,1385.41 2102.09,1385.42 2103.43,1385.43 \n",
       "  2104.78,1385.44 2106.13,1385.45 2107.48,1385.46 2108.83,1385.46 2110.17,1385.47 2111.52,1385.48 2112.87,1385.49 2114.22,1385.5 2115.57,1385.51 2116.91,1385.52 \n",
       "  2118.26,1385.53 2119.61,1385.54 2120.96,1385.55 2122.31,1385.56 2123.65,1385.57 2125,1385.57 2126.35,1385.58 2127.7,1385.59 2129.04,1385.6 2130.39,1385.61 \n",
       "  2131.74,1385.62 2133.09,1385.63 2134.44,1385.64 2135.78,1385.64 2137.13,1385.65 2138.48,1385.66 2139.83,1385.67 2141.18,1385.68 2142.52,1385.69 2143.87,1385.69 \n",
       "  2145.22,1385.7 2146.57,1385.71 2147.92,1385.72 2149.26,1385.73 2150.61,1385.74 2151.96,1385.74 2153.31,1385.75 2154.66,1385.76 2156,1385.77 2157.35,1385.78 \n",
       "  2158.7,1385.78 2160.05,1385.79 2161.39,1385.8 2162.74,1385.81 2164.09,1385.81 2165.44,1385.82 2166.79,1385.83 2168.13,1385.84 2169.48,1385.84 2170.83,1385.85 \n",
       "  2172.18,1385.86 2173.53,1385.87 2174.87,1385.87 2176.22,1385.88 2177.57,1385.89 2178.92,1385.9 2180.27,1385.9 2181.61,1385.91 2182.96,1385.92 2184.31,1385.93 \n",
       "  2185.66,1385.93 2187,1385.94 2188.35,1385.95 2189.7,1385.95 2191.05,1385.96 2192.4,1385.97 2193.74,1385.97 2195.09,1385.98 2196.44,1385.99 2197.79,1385.99 \n",
       "  2199.14,1386 2200.48,1386.01 2201.83,1386.01 2203.18,1386.02 2204.53,1386.03 2205.88,1386.03 2207.22,1386.04 2208.57,1386.05 2209.92,1386.05 2211.27,1386.06 \n",
       "  2212.61,1386.07 2213.96,1386.07 2215.31,1386.08 2216.66,1386.09 2218.01,1386.09 2219.35,1386.1 2220.7,1386.11 2222.05,1386.11 2223.4,1386.12 2224.75,1386.12 \n",
       "  2226.09,1386.13 2227.44,1386.14 2228.79,1386.14 2230.14,1386.15 2231.49,1386.15 2232.83,1386.16 2234.18,1386.17 2235.53,1386.17 2236.88,1386.18 2238.22,1386.18 \n",
       "  2239.57,1386.19 2240.92,1386.2 2242.27,1386.2 2243.62,1386.21 2244.96,1386.21 2246.31,1386.22 2247.66,1386.22 2249.01,1386.23 2250.36,1386.24 2251.7,1386.24 \n",
       "  2253.05,1386.25 2254.4,1386.25 2255.75,1386.26 2257.1,1386.26 2258.44,1386.27 2259.79,1386.27 2261.14,1386.28 2262.49,1386.28 2263.83,1386.29 2265.18,1386.29 \n",
       "  2266.53,1386.3 2267.88,1386.31 2269.23,1386.31 2270.57,1386.32 2271.92,1386.32 2273.27,1386.33 2274.62,1386.33 2275.97,1386.34 2277.31,1386.34 2278.66,1386.35 \n",
       "  2280.01,1386.35 2281.36,1386.36 2282.71,1386.36 2284.05,1386.37 2285.4,1386.37 2286.75,1386.38 2288.1,1386.38 2289.45,1386.39 2290.79,1386.39 2292.14,1386.4 \n",
       "  \n",
       "  \"/>\n",
       "<path clip-path=\"url(#clip680)\" d=\"\n",
       "M1582.45 287.756 L2281.36 287.756 L2281.36 166.796 L1582.45 166.796  Z\n",
       "  \" fill=\"#ffffff\" fill-rule=\"evenodd\" fill-opacity=\"1\"/>\n",
       "<polyline clip-path=\"url(#clip680)\" style=\"stroke:#000000; stroke-width:4; stroke-opacity:1; fill:none\" points=\"\n",
       "  1582.45,287.756 2281.36,287.756 2281.36,166.796 1582.45,166.796 1582.45,287.756 \n",
       "  \"/>\n",
       "<polyline clip-path=\"url(#clip680)\" style=\"stroke:#009af9; stroke-width:4; stroke-opacity:1; fill:none\" points=\"\n",
       "  1606.25,227.276 1749.03,227.276 \n",
       "  \"/>\n",
       "<path clip-path=\"url(#clip680)\" d=\"M 0 0 M1794.54 228.908 L1794.54 244.556 L1790.28 244.556 L1790.28 229.047 Q1790.28 225.366 1788.84 223.537 Q1787.41 221.709 1784.54 221.709 Q1781.09 221.709 1779.1 223.908 Q1777.11 226.107 1777.11 229.903 L1777.11 244.556 L1772.82 244.556 L1772.82 218.63 L1777.11 218.63 L1777.11 222.658 Q1778.63 220.32 1780.69 219.162 Q1782.78 218.005 1785.49 218.005 Q1789.95 218.005 1792.25 220.783 Q1794.54 223.537 1794.54 228.908 Z\" fill=\"#000000\" fill-rule=\"evenodd\" fill-opacity=\"1\" /><path clip-path=\"url(#clip680)\" d=\"M 0 0 M1821.18 230.528 L1821.18 232.611 L1801.6 232.611 Q1801.87 237.009 1804.24 239.324 Q1806.62 241.616 1810.86 241.616 Q1813.31 241.616 1815.6 241.014 Q1817.92 240.412 1820.19 239.209 L1820.19 243.236 Q1817.89 244.208 1815.49 244.718 Q1813.08 245.227 1810.6 245.227 Q1804.4 245.227 1800.76 241.616 Q1797.15 238.005 1797.15 231.847 Q1797.15 225.482 1800.58 221.755 Q1804.03 218.005 1809.86 218.005 Q1815.09 218.005 1818.12 221.385 Q1821.18 224.741 1821.18 230.528 M1816.92 229.278 Q1816.87 225.783 1814.95 223.699 Q1813.06 221.616 1809.91 221.616 Q1806.34 221.616 1804.19 223.63 Q1802.06 225.644 1801.74 229.301 L1816.92 229.278 Z\" fill=\"#000000\" fill-rule=\"evenodd\" fill-opacity=\"1\" /><path clip-path=\"url(#clip680)\" d=\"M 0 0 M1842.71 231.292 Q1842.71 226.662 1840.79 224.116 Q1838.89 221.57 1835.44 221.57 Q1832.01 221.57 1830.09 224.116 Q1828.19 226.662 1828.19 231.292 Q1828.19 235.898 1830.09 238.445 Q1832.01 240.991 1835.44 240.991 Q1838.89 240.991 1840.79 238.445 Q1842.71 235.898 1842.71 231.292 M1846.97 241.338 Q1846.97 247.958 1844.03 251.176 Q1841.09 254.417 1835.02 254.417 Q1832.78 254.417 1830.79 254.07 Q1828.8 253.745 1826.92 253.051 L1826.92 248.908 Q1828.8 249.926 1830.62 250.412 Q1832.45 250.898 1834.35 250.898 Q1838.54 250.898 1840.62 248.699 Q1842.71 246.523 1842.71 242.102 L1842.71 239.996 Q1841.39 242.287 1839.33 243.421 Q1837.27 244.556 1834.4 244.556 Q1829.63 244.556 1826.71 240.921 Q1823.8 237.287 1823.8 231.292 Q1823.8 225.273 1826.71 221.639 Q1829.63 218.005 1834.4 218.005 Q1837.27 218.005 1839.33 219.139 Q1841.39 220.273 1842.71 222.565 L1842.71 218.63 L1846.97 218.63 L1846.97 241.338 Z\" fill=\"#000000\" fill-rule=\"evenodd\" fill-opacity=\"1\" /><path clip-path=\"url(#clip680)\" d=\"M 0 0 M1863.22 231.523 Q1858.06 231.523 1856.06 232.704 Q1854.07 233.884 1854.07 236.732 Q1854.07 239 1855.56 240.343 Q1857.06 241.662 1859.63 241.662 Q1863.17 241.662 1865.3 239.162 Q1867.45 236.639 1867.45 232.472 L1867.45 231.523 L1863.22 231.523 M1871.71 229.764 L1871.71 244.556 L1867.45 244.556 L1867.45 240.621 Q1865.99 242.982 1863.82 244.116 Q1861.64 245.227 1858.5 245.227 Q1854.51 245.227 1852.15 243.005 Q1849.81 240.759 1849.81 237.009 Q1849.81 232.634 1852.73 230.412 Q1855.67 228.19 1861.48 228.19 L1867.45 228.19 L1867.45 227.773 Q1867.45 224.834 1865.51 223.236 Q1863.59 221.616 1860.09 221.616 Q1857.87 221.616 1855.76 222.148 Q1853.66 222.681 1851.71 223.746 L1851.71 219.81 Q1854.05 218.908 1856.25 218.468 Q1858.45 218.005 1860.53 218.005 Q1866.16 218.005 1868.93 220.922 Q1871.71 223.838 1871.71 229.764 Z\" fill=\"#000000\" fill-rule=\"evenodd\" fill-opacity=\"1\" /><path clip-path=\"url(#clip680)\" d=\"M 0 0 M1880.39 211.269 L1880.39 218.63 L1889.17 218.63 L1889.17 221.94 L1880.39 221.94 L1880.39 236.014 Q1880.39 239.185 1881.25 240.088 Q1882.13 240.991 1884.79 240.991 L1889.17 240.991 L1889.17 244.556 L1884.79 244.556 Q1879.86 244.556 1877.99 242.727 Q1876.11 240.875 1876.11 236.014 L1876.11 221.94 L1872.99 221.94 L1872.99 218.63 L1876.11 218.63 L1876.11 211.269 L1880.39 211.269 Z\" fill=\"#000000\" fill-rule=\"evenodd\" fill-opacity=\"1\" /><path clip-path=\"url(#clip680)\" d=\"M 0 0 M1893.63 218.63 L1897.89 218.63 L1897.89 244.556 L1893.63 244.556 L1893.63 218.63 M1893.63 208.537 L1897.89 208.537 L1897.89 213.931 L1893.63 213.931 L1893.63 208.537 Z\" fill=\"#000000\" fill-rule=\"evenodd\" fill-opacity=\"1\" /><path clip-path=\"url(#clip680)\" d=\"M 0 0 M1899.3 218.63 L1903.82 218.63 L1911.92 240.389 L1920.02 218.63 L1924.54 218.63 L1914.81 244.556 L1909.03 244.556 L1899.3 218.63 Z\" fill=\"#000000\" fill-rule=\"evenodd\" fill-opacity=\"1\" /><path clip-path=\"url(#clip680)\" d=\"M 0 0 M1951.18 230.528 L1951.18 232.611 L1931.6 232.611 Q1931.87 237.009 1934.24 239.324 Q1936.62 241.616 1940.86 241.616 Q1943.31 241.616 1945.6 241.014 Q1947.92 240.412 1950.18 239.209 L1950.18 243.236 Q1947.89 244.208 1945.49 244.718 Q1943.08 245.227 1940.6 245.227 Q1934.4 245.227 1930.76 241.616 Q1927.15 238.005 1927.15 231.847 Q1927.15 225.482 1930.58 221.755 Q1934.03 218.005 1939.86 218.005 Q1945.09 218.005 1948.12 221.385 Q1951.18 224.741 1951.18 230.528 M1946.92 229.278 Q1946.87 225.783 1944.95 223.699 Q1943.05 221.616 1939.91 221.616 Q1936.34 221.616 1934.19 223.63 Q1932.06 225.644 1931.74 229.301 L1946.92 229.278 Z\" fill=\"#000000\" fill-rule=\"evenodd\" fill-opacity=\"1\" /><path clip-path=\"url(#clip680)\" d=\"M 0 0 M1970.72 208.537 L1974.98 208.537 L1974.98 244.556 L1970.72 244.556 L1970.72 208.537 Z\" fill=\"#000000\" fill-rule=\"evenodd\" fill-opacity=\"1\" /><path clip-path=\"url(#clip680)\" d=\"M 0 0 M1989.49 221.616 Q1986.06 221.616 1984.07 224.301 Q1982.08 226.963 1982.08 231.616 Q1982.08 236.269 1984.05 238.954 Q1986.04 241.616 1989.49 241.616 Q1992.89 241.616 1994.88 238.931 Q1996.87 236.246 1996.87 231.616 Q1996.87 227.01 1994.88 224.324 Q1992.89 221.616 1989.49 221.616 M1989.49 218.005 Q1995.05 218.005 1998.22 221.616 Q2001.39 225.227 2001.39 231.616 Q2001.39 237.982 1998.22 241.616 Q1995.05 245.227 1989.49 245.227 Q1983.91 245.227 1980.74 241.616 Q1977.59 237.982 1977.59 231.616 Q1977.59 225.227 1980.74 221.616 Q1983.91 218.005 1989.49 218.005 Z\" fill=\"#000000\" fill-rule=\"evenodd\" fill-opacity=\"1\" /><path clip-path=\"url(#clip680)\" d=\"M 0 0 M2022.92 231.292 Q2022.92 226.662 2020.99 224.116 Q2019.1 221.57 2015.65 221.57 Q2012.22 221.57 2010.3 224.116 Q2008.4 226.662 2008.4 231.292 Q2008.4 235.898 2010.3 238.445 Q2012.22 240.991 2015.65 240.991 Q2019.1 240.991 2020.99 238.445 Q2022.92 235.898 2022.92 231.292 M2027.17 241.338 Q2027.17 247.958 2024.23 251.176 Q2021.3 254.417 2015.23 254.417 Q2012.98 254.417 2010.99 254.07 Q2009 253.745 2007.13 253.051 L2007.13 248.908 Q2009 249.926 2010.83 250.412 Q2012.66 250.898 2014.56 250.898 Q2018.75 250.898 2020.83 248.699 Q2022.92 246.523 2022.92 242.102 L2022.92 239.996 Q2021.6 242.287 2019.54 243.421 Q2017.48 244.556 2014.61 244.556 Q2009.84 244.556 2006.92 240.921 Q2004 237.287 2004 231.292 Q2004 225.273 2006.92 221.639 Q2009.84 218.005 2014.61 218.005 Q2017.48 218.005 2019.54 219.139 Q2021.6 220.273 2022.92 222.565 L2022.92 218.63 L2027.17 218.63 L2027.17 241.338 Z\" fill=\"#000000\" fill-rule=\"evenodd\" fill-opacity=\"1\" /><path clip-path=\"url(#clip680)\" d=\"M 0 0 M2029.49 229.672 L2041.97 229.672 L2041.97 233.468 L2029.49 233.468 L2029.49 229.672 Z\" fill=\"#000000\" fill-rule=\"evenodd\" fill-opacity=\"1\" /><path clip-path=\"url(#clip680)\" d=\"M 0 0 M2046.43 208.537 L2050.69 208.537 L2050.69 244.556 L2046.43 244.556 L2046.43 208.537 Z\" fill=\"#000000\" fill-rule=\"evenodd\" fill-opacity=\"1\" /><path clip-path=\"url(#clip680)\" d=\"M 0 0 M2055.16 218.63 L2059.42 218.63 L2059.42 244.556 L2055.16 244.556 L2055.16 218.63 M2055.16 208.537 L2059.42 208.537 L2059.42 213.931 L2055.16 213.931 L2055.16 208.537 Z\" fill=\"#000000\" fill-rule=\"evenodd\" fill-opacity=\"1\" /><path clip-path=\"url(#clip680)\" d=\"M 0 0 M2063.73 208.537 L2068.01 208.537 L2068.01 229.81 L2080.72 218.63 L2086.16 218.63 L2072.41 230.759 L2086.73 244.556 L2081.18 244.556 L2068.01 231.894 L2068.01 244.556 L2063.73 244.556 L2063.73 208.537 Z\" fill=\"#000000\" fill-rule=\"evenodd\" fill-opacity=\"1\" /><path clip-path=\"url(#clip680)\" d=\"M 0 0 M2111.69 230.528 L2111.69 232.611 L2092.1 232.611 Q2092.38 237.009 2094.74 239.324 Q2097.13 241.616 2101.36 241.616 Q2103.82 241.616 2106.11 241.014 Q2108.42 240.412 2110.69 239.209 L2110.69 243.236 Q2108.4 244.208 2105.99 244.718 Q2103.59 245.227 2101.11 245.227 Q2094.91 245.227 2091.27 241.616 Q2087.66 238.005 2087.66 231.847 Q2087.66 225.482 2091.09 221.755 Q2094.54 218.005 2100.37 218.005 Q2105.6 218.005 2108.63 221.385 Q2111.69 224.741 2111.69 230.528 M2107.43 229.278 Q2107.38 225.783 2105.46 223.699 Q2103.56 221.616 2100.42 221.616 Q2096.85 221.616 2094.7 223.63 Q2092.57 225.644 2092.24 229.301 L2107.43 229.278 Z\" fill=\"#000000\" fill-rule=\"evenodd\" fill-opacity=\"1\" /><path clip-path=\"url(#clip680)\" d=\"M 0 0 M2116.16 208.537 L2120.41 208.537 L2120.41 244.556 L2116.16 244.556 L2116.16 208.537 Z\" fill=\"#000000\" fill-rule=\"evenodd\" fill-opacity=\"1\" /><path clip-path=\"url(#clip680)\" d=\"M 0 0 M2124.88 218.63 L2129.14 218.63 L2129.14 244.556 L2124.88 244.556 L2124.88 218.63 M2124.88 208.537 L2129.14 208.537 L2129.14 213.931 L2124.88 213.931 L2124.88 208.537 Z\" fill=\"#000000\" fill-rule=\"evenodd\" fill-opacity=\"1\" /><path clip-path=\"url(#clip680)\" d=\"M 0 0 M2155.16 228.908 L2155.16 244.556 L2150.9 244.556 L2150.9 229.047 Q2150.9 225.366 2149.47 223.537 Q2148.03 221.709 2145.16 221.709 Q2141.71 221.709 2139.72 223.908 Q2137.73 226.107 2137.73 229.903 L2137.73 244.556 L2133.45 244.556 L2133.45 208.537 L2137.73 208.537 L2137.73 222.658 Q2139.26 220.32 2141.32 219.162 Q2143.4 218.005 2146.11 218.005 Q2150.58 218.005 2152.87 220.783 Q2155.16 223.537 2155.16 228.908 Z\" fill=\"#000000\" fill-rule=\"evenodd\" fill-opacity=\"1\" /><path clip-path=\"url(#clip680)\" d=\"M 0 0 M2169.67 221.616 Q2166.25 221.616 2164.26 224.301 Q2162.27 226.963 2162.27 231.616 Q2162.27 236.269 2164.23 238.954 Q2166.22 241.616 2169.67 241.616 Q2173.08 241.616 2175.07 238.931 Q2177.06 236.246 2177.06 231.616 Q2177.06 227.01 2175.07 224.324 Q2173.08 221.616 2169.67 221.616 M2169.67 218.005 Q2175.23 218.005 2178.4 221.616 Q2181.57 225.227 2181.57 231.616 Q2181.57 237.982 2178.4 241.616 Q2175.23 245.227 2169.67 245.227 Q2164.1 245.227 2160.92 241.616 Q2157.78 237.982 2157.78 231.616 Q2157.78 225.227 2160.92 221.616 Q2164.1 218.005 2169.67 218.005 Z\" fill=\"#000000\" fill-rule=\"evenodd\" fill-opacity=\"1\" /><path clip-path=\"url(#clip680)\" d=\"M 0 0 M2196.09 221.616 Q2192.66 221.616 2190.67 224.301 Q2188.68 226.963 2188.68 231.616 Q2188.68 236.269 2190.65 238.954 Q2192.64 241.616 2196.09 241.616 Q2199.49 241.616 2201.48 238.931 Q2203.47 236.246 2203.47 231.616 Q2203.47 227.01 2201.48 224.324 Q2199.49 221.616 2196.09 221.616 M2196.09 218.005 Q2201.64 218.005 2204.81 221.616 Q2207.98 225.227 2207.98 231.616 Q2207.98 237.982 2204.81 241.616 Q2201.64 245.227 2196.09 245.227 Q2190.51 245.227 2187.34 241.616 Q2184.19 237.982 2184.19 231.616 Q2184.19 225.227 2187.34 221.616 Q2190.51 218.005 2196.09 218.005 Z\" fill=\"#000000\" fill-rule=\"evenodd\" fill-opacity=\"1\" /><path clip-path=\"url(#clip680)\" d=\"M 0 0 M2229.51 222.565 L2229.51 208.537 L2233.77 208.537 L2233.77 244.556 L2229.51 244.556 L2229.51 240.667 Q2228.17 242.982 2226.11 244.116 Q2224.07 245.227 2221.2 245.227 Q2216.5 245.227 2213.54 241.477 Q2210.6 237.727 2210.6 231.616 Q2210.6 225.505 2213.54 221.755 Q2216.5 218.005 2221.2 218.005 Q2224.07 218.005 2226.11 219.139 Q2228.17 220.25 2229.51 222.565 M2215 231.616 Q2215 236.315 2216.92 239 Q2218.86 241.662 2222.24 241.662 Q2225.62 241.662 2227.57 239 Q2229.51 236.315 2229.51 231.616 Q2229.51 226.917 2227.57 224.255 Q2225.62 221.57 2222.24 221.57 Q2218.86 221.57 2216.92 224.255 Q2215 226.917 2215 231.616 Z\" fill=\"#000000\" fill-rule=\"evenodd\" fill-opacity=\"1\" /></svg>\n"
      ]
     },
     "execution_count": 19,
     "metadata": {},
     "output_type": "execute_result"
    }
   ],
   "source": [
    "x = 1:1500;\n",
    "y = cost;\n",
    "\n",
    "gr() # backend\n",
    "\n",
    "plot(x, y, title = \"Cost v/s iteration(Training)\", label=\"negative log-likelihood\", lw=3)\n",
    "xlabel!(\"iteration\")\n",
    "ylabel!(\"cost\")"
   ]
  },
  {
   "cell_type": "code",
   "execution_count": 20,
   "metadata": {},
   "outputs": [
    {
     "data": {
      "text/plain": [
       "predict (generic function with 1 method)"
      ]
     },
     "execution_count": 20,
     "metadata": {},
     "output_type": "execute_result"
    }
   ],
   "source": [
    "function predict(w, b, X)\n",
    "    \"\"\"\n",
    "    Predict whether the label is 0 or 1 using learned logistic regression parameters (w, b)\n",
    "    \n",
    "    Arguments:\n",
    "    w -- weights, a numpy array of size (num_px * num_px * 3, 1)\n",
    "    b -- bias, a scalar\n",
    "    X -- data of size (num_px * num_px * 3, number of examples)\n",
    "    \n",
    "    Returns:\n",
    "    Y_prediction -- a numpy array (vector) containing all predictions (0/1) for the examples in X\n",
    "    \"\"\"\n",
    "    \n",
    "    m = size(X, 1)\n",
    "    Y_pred = zeros(1, m)\n",
    "    X = reshape(X, (size(X, 2), size(X, 1)))\n",
    "    \n",
    "    A = σ.(w'X .+ b)\n",
    "    \n",
    "    for i=1:size(A, 2)\n",
    "        \n",
    "        if(A[i] > 0.5)\n",
    "            Y_pred[i] = 1\n",
    "        else\n",
    "            Y_pred[i] = 0\n",
    "        end\n",
    "    end\n",
    "    \n",
    "    @assert(size(Y_pred) == (1, m))\n",
    "        \n",
    "    Y_pred\n",
    "    \n",
    "end"
   ]
  },
  {
   "cell_type": "code",
   "execution_count": 21,
   "metadata": {},
   "outputs": [],
   "source": [
    "X_test, y_test = data_test[:, 1:4], data_test[:, 5];"
   ]
  },
  {
   "cell_type": "code",
   "execution_count": 22,
   "metadata": {},
   "outputs": [
    {
     "data": {
      "text/plain": [
       "1×412 Array{Float64,2}:\n",
       " 0.0  0.0  0.0  0.0  0.0  0.0  0.0  0.0  …  0.0  0.0  0.0  0.0  0.0  0.0  0.0"
      ]
     },
     "execution_count": 22,
     "metadata": {},
     "output_type": "execute_result"
    }
   ],
   "source": [
    "preds = predict(w, b, X_test)"
   ]
  },
  {
   "cell_type": "code",
   "execution_count": 23,
   "metadata": {},
   "outputs": [
    {
     "data": {
      "text/plain": [
       "1×412 Array{Float64,2}:\n",
       " 1.0  1.0  1.0  1.0  0.0  1.0  0.0  0.0  …  1.0  0.0  1.0  0.0  0.0  0.0  0.0"
      ]
     },
     "execution_count": 23,
     "metadata": {},
     "output_type": "execute_result"
    }
   ],
   "source": [
    "y_test = reshape(y_test, (1, 412))"
   ]
  },
  {
   "cell_type": "code",
   "execution_count": 24,
   "metadata": {},
   "outputs": [],
   "source": [
    "cnt = 0\n",
    "\n",
    "for i=1:size(y_test, 2)\n",
    "    \n",
    "    if(y_test[i] == preds[i])\n",
    "        cnt +=  1\n",
    "    end\n",
    "end"
   ]
  },
  {
   "cell_type": "code",
   "execution_count": 25,
   "metadata": {},
   "outputs": [],
   "source": [
    "acc = (cnt/size(y_test, 2)) * 100;"
   ]
  },
  {
   "cell_type": "code",
   "execution_count": 26,
   "metadata": {},
   "outputs": [
    {
     "name": "stdout",
     "output_type": "stream",
     "text": [
      "Accuracy: 56.067961165048544\n"
     ]
    }
   ],
   "source": [
    "println(\"Accuracy: $acc\")"
   ]
  },
  {
   "cell_type": "markdown",
   "metadata": {},
   "source": [
    "## Epilouge\n",
    "\n",
    "You can see accuracy is really just 56% which is what to say 🤣🤣, but then I have not done any preprocessing except normalization & then there are also things we can do to optimize, like handling class-imbalance etc.\n",
    "\n",
    "The goal was to implement Logistic regression with back-prop from scratch which I did. Hope you will take something from it."
   ]
  },
  {
   "cell_type": "markdown",
   "metadata": {},
   "source": [
    "## Github repo for notebook: [Julia_ML](https://github.com/Abhiswain97/Julia_ML)\n",
    "\n",
    "As always, thank you for reading 😊😃!"
   ]
  }
 ],
 "metadata": {
  "kernelspec": {
   "display_name": "Julia 1.4.2",
   "language": "julia",
   "name": "julia-1.4"
  },
  "language_info": {
   "file_extension": ".jl",
   "mimetype": "application/julia",
   "name": "julia",
   "version": "1.4.2"
  }
 },
 "nbformat": 4,
 "nbformat_minor": 4
}
